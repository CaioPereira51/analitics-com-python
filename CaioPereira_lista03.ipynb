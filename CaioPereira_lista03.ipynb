{
  "nbformat": 4,
  "nbformat_minor": 0,
  "metadata": {
    "kernelspec": {
      "display_name": "Python 3",
      "language": "python",
      "name": "python3"
    },
    "language_info": {
      "codemirror_mode": {
        "name": "ipython",
        "version": 3
      },
      "file_extension": ".py",
      "mimetype": "text/x-python",
      "name": "python",
      "nbconvert_exporter": "python",
      "pygments_lexer": "ipython3",
      "version": "3.7.4"
    },
    "colab": {
      "provenance": [],
      "include_colab_link": true
    }
  },
  "cells": [
    {
      "cell_type": "markdown",
      "metadata": {
        "id": "view-in-github",
        "colab_type": "text"
      },
      "source": [
        "<a href=\"https://colab.research.google.com/github/CaioPereira51/analitics-com-python/blob/main/CaioPereira_lista03.ipynb\" target=\"_parent\"><img src=\"https://colab.research.google.com/assets/colab-badge.svg\" alt=\"Open In Colab\"/></a>"
      ]
    },
    {
      "cell_type": "markdown",
      "metadata": {
        "id": "Ve2cOW3-EnxE"
      },
      "source": [
        "# <font color='blue'>FUMEC - Analytics com Python</font>\n",
        "## **Lista de exercícios 03 - Listas e Tuplas**\n",
        "\n",
        "<br>**ATENÇÃO:** para salvar o arquivo .ipynb do notebook, faça da seguinte forma:\n",
        "\n",
        "* **Google Colaboratory**: opção do menu \"Arquivo --> Fazer donwnload --> Fazer o download do .ipynb\"\n",
        "\n",
        "* Salve o arquivo com o nome \"**SeuNome_lista03.ipynb**\"\n",
        "\n",
        "<br>\n",
        "\n"
      ]
    },
    {
      "cell_type": "markdown",
      "metadata": {
        "id": "BLPhekz2EnxH"
      },
      "source": [
        "### **01) De acordo com os itens abaixo, execute as seguintes tarefas**:\n",
        "```\n",
        "\"cachorro\"\n",
        "[1, 2, 3]\n",
        "3.5\n",
        "False\n",
        "```\n",
        "\n",
        "\n",
        "1.   Crie uma lista com estes itens acima\n",
        "2.   Percorra a lista e imprima cada item\n",
        "3.   Substitua o último elemento da lista pela string 'último'\n",
        "4.   Remova o elemento de índice 0\n",
        "5.   Imprima a lista\n",
        "\n",
        "**Saída esperada**:\n",
        "```\n",
        "cachorro\n",
        "[1, 2, 3]\n",
        "3.5\n",
        "False\n",
        "[[1, 2, 3], 3.5, 'último']\n",
        "```\n",
        "\n"
      ]
    },
    {
      "cell_type": "code",
      "metadata": {
        "id": "Sle_b3vhEnxJ",
        "colab": {
          "base_uri": "https://localhost:8080/"
        },
        "outputId": "17db4a39-323a-4822-a4fe-35d686b0f617"
      },
      "source": [
        "# exercício 01 - <escrever o código neste bloco>\n",
        "lista = [\"cachorro\", [1, 2, 3], 3.5, False]\n",
        "\n",
        "print(lista)\n",
        "\n",
        "lista[3] = \"ultimo\"\n",
        "del lista[0]\n",
        "\n",
        "print(lista)"
      ],
      "execution_count": 1,
      "outputs": [
        {
          "output_type": "stream",
          "name": "stdout",
          "text": [
            "['cachorro', [1, 2, 3], 3.5, False]\n",
            "[[1, 2, 3], 3.5, 'ultimo']\n"
          ]
        }
      ]
    },
    {
      "cell_type": "markdown",
      "metadata": {
        "id": "BtMjSfBLc1tL"
      },
      "source": [
        "### **02) Execute as seguintes tarefas**:\n",
        "\n",
        "1.   Crie uma lista, representando uma matriz 3x3, com todos os elementos iguais a 0, usando o operador de repetição * para gerar todos os itens\n",
        "2.   Imprima a lista criada\n",
        "\n",
        "**Saída esperada**:\n",
        "```\n",
        "[[0, 0, 0], [0, 0, 0], [0, 0, 0]]\n",
        "```\n",
        "\n"
      ]
    },
    {
      "cell_type": "code",
      "metadata": {
        "id": "L0PuBYqxEnxO",
        "colab": {
          "base_uri": "https://localhost:8080/"
        },
        "outputId": "0f71b9e9-cc47-418a-aba9-f3fb7615e17a"
      },
      "source": [
        "# exercício 02 - <escrever o código neste bloco>\n",
        "[[0, 0, 0]]*3"
      ],
      "execution_count": 3,
      "outputs": [
        {
          "output_type": "execute_result",
          "data": {
            "text/plain": [
              "[[0, 0, 0], [0, 0, 0], [0, 0, 0]]"
            ]
          },
          "metadata": {},
          "execution_count": 3
        }
      ]
    },
    {
      "cell_type": "markdown",
      "metadata": {
        "id": "pAnX6n5enDk7"
      },
      "source": [
        "### **03) Execute as seguintes tarefas**:\n",
        "\n",
        "1.   Crie uma lista, representando uma matriz 3x3, com o conteúdo ```[[1, 2, 3], [4, 5, 6], [7, 8, 9]]```\n",
        "\n",
        "\n",
        "\n",
        "```\n",
        "    0  1  2\n",
        "0 [ 1, 2, 3]\n",
        "1 [ 4, 5, 7]\n",
        "2 [ 8, 9, 10]\n",
        "```\n",
        "\n",
        "2.   Imprima a lista criada\n",
        "3.   Percorra a lista para substituir os elementos onde **i = j** (índice da linha é igual ao índice da coluna) pelo número 1, e os demais elementos da matriz devem ser substituídos pelo número 0\n",
        "4.   Imprima a lista\n",
        "\n",
        "Dica: usar a função `enumerate()` para percorrer a lista\n",
        "\n",
        "\n",
        "**Saída esperada**:\n",
        "```\n",
        "[[1, 2, 3], [4, 5, 6], [7, 8, 9]]\n",
        "[[1, 0, 0], [0, 1, 0], [0, 0, 1]]\n",
        "```\n",
        "\n"
      ]
    },
    {
      "cell_type": "code",
      "metadata": {
        "id": "W33DEt9HnHFy",
        "colab": {
          "base_uri": "https://localhost:8080/"
        },
        "outputId": "41abb22d-868c-48e4-ffa7-9fe73ce1eaa7"
      },
      "source": [
        "# exercício 03 - <escrever o código neste bloco>\n",
        "matriz = [[1, 2, 3], [4, 5, 6], [7, 8, 9]]\n",
        "\n",
        "print(matriz)\n",
        "\n",
        "for i in range(len(matriz)):\n",
        "  for j in range(len(matriz[i])):\n",
        "    if i == j:\n",
        "      matriz[i][j] = 1\n",
        "    else:\n",
        "      matriz[i][j] = 0\n",
        "\n",
        "print(matriz)\n"
      ],
      "execution_count": 11,
      "outputs": [
        {
          "output_type": "stream",
          "name": "stdout",
          "text": [
            "[[1, 2, 3], [4, 5, 6], [7, 8, 9]]\n",
            "[[1, 0, 0], [0, 1, 0], [0, 0, 1]]\n"
          ]
        }
      ]
    },
    {
      "cell_type": "markdown",
      "metadata": {
        "id": "eoFjhZIwojtq"
      },
      "source": [
        "### **04) Execute as seguintes tarefas**:\n",
        "\n",
        "1.   Considerando duas listas\n",
        "```\n",
        "l1 = ['1','2','3']\n",
        "l2 = ['a','b','c']\n",
        "```\n",
        "2.   Concatene em formato string cada elemento da primeira lista com cada elemento da segunda lista para produzir uma nova lista\n",
        "3.   Faça uma versão usando o comando ***for*** de forma tradicional\n",
        "4.   Faça outra versão usando *compreensão de listas*\n",
        "\n",
        "**Saída esperada**:\n",
        "```\n",
        "['1a', '1b', '1c', '2a', '2b', '2c', '3a', '3b', '3c']\n",
        "['1a', '1b', '1c', '2a', '2b', '2c', '3a', '3b', '3c']\n",
        "```\n",
        "\n"
      ]
    },
    {
      "cell_type": "code",
      "metadata": {
        "id": "4AkXkGVhoxkV",
        "colab": {
          "base_uri": "https://localhost:8080/"
        },
        "outputId": "c1be1bf1-2614-470c-a2f6-5c193ac7e04d"
      },
      "source": [
        "# exercício 04 - <escrever o código neste bloco>\n",
        "l1 = ['1','2','3']\n",
        "l2 = ['a','b','c']\n",
        "lista = []\n",
        "\n",
        "for a in l1:\n",
        "  for b in l2:\n",
        "    lista.append(a + b)\n",
        "\n",
        "print(lista)"
      ],
      "execution_count": 25,
      "outputs": [
        {
          "output_type": "stream",
          "name": "stdout",
          "text": [
            "['1a', '1b', '1c', '2a', '2b', '2c', '3a', '3b', '3c']\n"
          ]
        }
      ]
    },
    {
      "cell_type": "markdown",
      "metadata": {
        "id": "JuYYZG2_rZO7"
      },
      "source": [
        "### **05) De acordo com os itens abaixo, execute as seguintes tarefas**:\n",
        "```\n",
        "'banana'\n",
        "'laranja'\n",
        "'limão'\n",
        "'caju'\n",
        "```\n",
        "\n",
        "\n",
        "1.   Crie uma lista com estes itens acima\n",
        "2.   Inclua um novo item 'abacaxi' ao final da lista\n",
        "3.   Remova o elemento 'banana'\n",
        "4.   Retire o último elemento da lista\n",
        "5.   Ordene a lista em ordem decrescente\n",
        "6.   Imprima a lista\n",
        "\n",
        "**Saída esperada**:\n",
        "```\n",
        "['limão', 'laranja', 'caju']\n",
        "```\n",
        "\n"
      ]
    },
    {
      "cell_type": "code",
      "metadata": {
        "id": "UL6NclH5r3GO",
        "colab": {
          "base_uri": "https://localhost:8080/"
        },
        "outputId": "c488467f-15b8-4b53-dba6-d24fa66d9ef3"
      },
      "source": [
        "# exercício 05 - <escrever o código neste bloco>\n",
        "lista = ['banana', 'laranja', 'limão', 'caju']\n",
        "\n",
        "lista.append('abacaxi')\n",
        "lista.pop()\n",
        "lista.remove('banana')\n",
        "lista.sort(reverse = True)\n",
        "\n",
        "print(lista)"
      ],
      "execution_count": 32,
      "outputs": [
        {
          "output_type": "stream",
          "name": "stdout",
          "text": [
            "['limão', 'laranja', 'caju']\n"
          ]
        }
      ]
    },
    {
      "cell_type": "markdown",
      "metadata": {
        "id": "cdWM9aGjsyk3"
      },
      "source": [
        "### **06) Execute as seguintes tarefas**:\n",
        "\n",
        "1.   Crie uma fila vazia (usar uma lista padrão)\n",
        "2.   Use um loop com o comando ***for*** para incluir na fila com os itens ```'Item 1', 'Item 2', 'Item 3' e 'Item 4'```\n",
        "3.   Imprima a fila\n",
        "4.   Use um loop com o comando ***for*** para ir retirando os elementos da fila e imprimir o elemento retirado e o elemetnos restantes\n",
        "5.   Imprima a fila vazia\n",
        "\n",
        "**Saída esperada**:\n",
        "```\n",
        "['Item 1', 'Item 2', 'Item 3', 'Item 4']\n",
        "Retirei Item 1 e faltam 3 elementos na fila\n",
        "Retirei Item 2 e faltam 2 elementos na fila\n",
        "Retirei Item 3 e faltam 1 elementos na fila\n",
        "Retirei Item 4 e faltam 0 elementos na fila\n",
        "[]\n",
        "```"
      ]
    },
    {
      "cell_type": "code",
      "metadata": {
        "id": "uQF5BUvLu79Z",
        "colab": {
          "base_uri": "https://localhost:8080/"
        },
        "outputId": "a0de46a1-524c-4f2a-b5ad-c387ccdf635f"
      },
      "source": [
        "from ast import parse\n",
        "# exercício 06 - <escrever o código neste bloco>\n",
        "lista = []\n",
        "\n",
        "for i in list(range(4)):\n",
        "  lista.append(\"Item \" + str(i + 1))\n",
        "\n",
        "print(lista)\n",
        "\n",
        "for a in lista:\n",
        "  item = lista.pop()\n",
        "  print(f'Retirei {item} e faltam {len(lista)} elementos na fila')"
      ],
      "execution_count": 52,
      "outputs": [
        {
          "output_type": "stream",
          "name": "stdout",
          "text": [
            "['Item 1', 'Item 2', 'Item 3', 'Item 4']\n",
            "Retirei Item 4 e faltam 3 elementos na fila\n",
            "Retirei Item 3 e faltam 2 elementos na fila\n"
          ]
        }
      ]
    },
    {
      "cell_type": "markdown",
      "metadata": {
        "id": "I_l5x7texMRv"
      },
      "source": [
        "### **07) Considere as duas strings abaixo e execute as seguintes tarefas**:\n",
        "```\n",
        "naipes = 'copas ouros espadas paus'\n",
        "cartas = 'A 2 3 4 5 6 7 8 9 10 J Q K'\n",
        "```\n",
        "1.   Crie duas listas a partir das strings acima\n",
        "2.   Imprima cada uma das listas criadas\n",
        "3.   Crie uma nova lista chamada '**baralho**' contendo 4 elementos. Cada elemento será uma lista com as cartas de cada naipe\n",
        "4.   Imprima a lista criada\n",
        "\n",
        "**Saída esperada**:\n",
        "```\n",
        "['copas', 'ouros', 'espadas', 'paus']\n",
        "['A', '2', '3', '4', '5', '6', '7', '8', '9', '10', 'J', 'Q', 'K']\n",
        "[['A copas', '2 copas', '3 copas', '4 copas', '5 copas', '6 copas', '7 copas', '8 copas', '9 copas', '10 copas', 'J copas', 'Q copas', 'K copas'],\n",
        "['A ouros', '2 ouros', '3 ouros', '4 ouros', '5 ouros', '6 ouros', '7 ouros', '8 ouros', '9 ouros', '10 ouros', 'J ouros', 'Q ouros', 'K ouros'],\n",
        "['A espadas', '2 espadas', '3 espadas', '4 espadas', '5 espadas', '6 espadas', '7 espadas', '8 espadas', '9 espadas', '10 espadas', 'J espadas', 'Q espadas', 'K espadas'],\n",
        "['A paus', '2 paus', '3 paus', '4 paus', '5 paus', '6 paus', '7 paus', '8 paus', '9 paus', '10 paus', 'J paus', 'Q paus', 'K paus']]\n",
        "```"
      ]
    },
    {
      "cell_type": "code",
      "metadata": {
        "id": "NTvtJbFtyG0q",
        "colab": {
          "base_uri": "https://localhost:8080/"
        },
        "outputId": "34f859cb-e9da-41d7-f9da-83179e7bd6a3"
      },
      "source": [
        "# exercício 07 - <escrever o código neste bloco>\n",
        "naipes = 'copas ouros espadas paus'.split()\n",
        "cartas = 'A 2 3 4 5 6 7 8 9 10 J Q K'.split()\n",
        "\n",
        "print(naipes)\n",
        "print(cartas)\n",
        "\n",
        "baralho = []\n",
        "\n",
        "for naipe in naipes:\n",
        "  aux = [f'{naipe} {carta}' for carta in cartas]\n",
        "  baralho.append(aux)\n",
        "\n",
        "print(baralho)\n"
      ],
      "execution_count": 55,
      "outputs": [
        {
          "output_type": "stream",
          "name": "stdout",
          "text": [
            "['copas', 'ouros', 'espadas', 'paus']\n",
            "['A', '2', '3', '4', '5', '6', '7', '8', '9', '10', 'J', 'Q', 'K']\n",
            "[['copas A', 'copas 2', 'copas 3', 'copas 4', 'copas 5', 'copas 6', 'copas 7', 'copas 8', 'copas 9', 'copas 10', 'copas J', 'copas Q', 'copas K'], ['ouros A', 'ouros 2', 'ouros 3', 'ouros 4', 'ouros 5', 'ouros 6', 'ouros 7', 'ouros 8', 'ouros 9', 'ouros 10', 'ouros J', 'ouros Q', 'ouros K'], ['espadas A', 'espadas 2', 'espadas 3', 'espadas 4', 'espadas 5', 'espadas 6', 'espadas 7', 'espadas 8', 'espadas 9', 'espadas 10', 'espadas J', 'espadas Q', 'espadas K'], ['paus A', 'paus 2', 'paus 3', 'paus 4', 'paus 5', 'paus 6', 'paus 7', 'paus 8', 'paus 9', 'paus 10', 'paus J', 'paus Q', 'paus K']]\n"
          ]
        }
      ]
    },
    {
      "cell_type": "markdown",
      "metadata": {
        "id": "y9-cpOeuEIQK"
      },
      "source": [
        "### **08) Execute as seguintes tarefas (pense fora da caixa!)**:\n",
        "\n",
        "1.   Considere a tupla abaixo:\n",
        "```\n",
        "tupla = ( 'x', 'y', 'z')\n",
        "```\n",
        "2.   Substitua o segundo elemento da tupla por 'aaa'\n",
        "\n",
        "**Saída esperada**:\n",
        "```\n",
        "('x', 'aaa', 'z')\n",
        "```\n",
        "\n"
      ]
    },
    {
      "cell_type": "code",
      "metadata": {
        "id": "s2PZ09P0EIQN",
        "colab": {
          "base_uri": "https://localhost:8080/"
        },
        "outputId": "8bdf6954-449b-4b35-adc9-0d3740b16aae"
      },
      "source": [
        "# exercício 08 - <escrever o código neste bloco>\n",
        "tupla = ( 'x', 'y', 'z')\n",
        "lista = list( tupla )\n",
        "lista[1] = 'aaa'\n",
        "tupla = tuple( lista )\n",
        "\n",
        "tupla"
      ],
      "execution_count": 57,
      "outputs": [
        {
          "output_type": "execute_result",
          "data": {
            "text/plain": [
              "('x', 'aaa', 'z')"
            ]
          },
          "metadata": {},
          "execution_count": 57
        }
      ]
    }
  ]
}