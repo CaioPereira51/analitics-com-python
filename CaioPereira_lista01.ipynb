{
  "nbformat": 4,
  "nbformat_minor": 0,
  "metadata": {
    "kernelspec": {
      "display_name": "Python 3",
      "language": "python",
      "name": "python3"
    },
    "language_info": {
      "codemirror_mode": {
        "name": "ipython",
        "version": 3
      },
      "file_extension": ".py",
      "mimetype": "text/x-python",
      "name": "python",
      "nbconvert_exporter": "python",
      "pygments_lexer": "ipython3",
      "version": "3.7.4"
    },
    "colab": {
      "provenance": [],
      "include_colab_link": true
    }
  },
  "cells": [
    {
      "cell_type": "markdown",
      "metadata": {
        "id": "view-in-github",
        "colab_type": "text"
      },
      "source": [
        "<a href=\"https://colab.research.google.com/github/CaioPereira51/analitics-com-python/blob/main/CaioPereira_lista01.ipynb\" target=\"_parent\"><img src=\"https://colab.research.google.com/assets/colab-badge.svg\" alt=\"Open In Colab\"/></a>"
      ]
    },
    {
      "cell_type": "markdown",
      "metadata": {
        "id": "Ve2cOW3-EnxE"
      },
      "source": [
        "# <font color='blue'>FUMEC - Analytics com Python</font>\n",
        "## **Lista de exercícios 01 - Introdução**\n",
        "\n",
        "<br>**ATENÇÃO:** para salvar o arquivo .ipynb do notebook, faça da seguinte forma:\n",
        "\n",
        "* **Google Colaboratory**: opção do menu \"Arquivo --> Fazer o donwnload --> Fazer download do .ipynb\"\n",
        "\n",
        "* Salve o arquivo com o nome \"**SeuNome_lista01.ipynb**\"\n",
        "\n",
        "<br>\n",
        "\n"
      ]
    },
    {
      "cell_type": "markdown",
      "metadata": {
        "id": "BLPhekz2EnxH"
      },
      "source": [
        "**01) Somar 10 e 4**"
      ]
    },
    {
      "cell_type": "code",
      "metadata": {
        "id": "tYY90cggwl0y",
        "outputId": "ac0af47c-fa49-49d1-ba29-3ff1a185207d",
        "colab": {
          "base_uri": "https://localhost:8080/"
        }
      },
      "source": [
        "print(10 + 4)"
      ],
      "execution_count": null,
      "outputs": [
        {
          "output_type": "stream",
          "name": "stdout",
          "text": [
            "14\n"
          ]
        }
      ]
    },
    {
      "cell_type": "markdown",
      "metadata": {
        "id": "U38TabXfwwMG"
      },
      "source": [
        "**02) Subtrair 4 de 10**"
      ]
    },
    {
      "cell_type": "code",
      "metadata": {
        "id": "-SeZI9Oow3H5",
        "outputId": "b970ed92-ce6f-4050-8bf6-cc2987c307c5",
        "colab": {
          "base_uri": "https://localhost:8080/"
        }
      },
      "source": [
        "print(10 - 4)"
      ],
      "execution_count": null,
      "outputs": [
        {
          "output_type": "stream",
          "name": "stdout",
          "text": [
            "6\n"
          ]
        }
      ]
    },
    {
      "cell_type": "markdown",
      "metadata": {
        "id": "0BdJq2tyw6Bg"
      },
      "source": [
        "**03) Multiplicar 10 e 4**"
      ]
    },
    {
      "cell_type": "code",
      "metadata": {
        "id": "MZQigCQCw8N7",
        "outputId": "ec0a33e8-3d75-4c31-921f-bde3c02717a2",
        "colab": {
          "base_uri": "https://localhost:8080/"
        }
      },
      "source": [
        "print(10 * 4)"
      ],
      "execution_count": null,
      "outputs": [
        {
          "output_type": "stream",
          "name": "stdout",
          "text": [
            "40\n"
          ]
        }
      ]
    },
    {
      "cell_type": "markdown",
      "metadata": {
        "id": "P1mDz_Haw8vi"
      },
      "source": [
        "**04) Efetuar 10 elevado a 4**"
      ]
    },
    {
      "cell_type": "code",
      "metadata": {
        "id": "tuAVPI-HxMEC",
        "outputId": "8893365f-5de9-48d5-f2ac-94b962179539",
        "colab": {
          "base_uri": "https://localhost:8080/"
        }
      },
      "source": [
        "print(10 ** 4)"
      ],
      "execution_count": null,
      "outputs": [
        {
          "output_type": "stream",
          "name": "stdout",
          "text": [
            "10000\n"
          ]
        }
      ]
    },
    {
      "cell_type": "markdown",
      "metadata": {
        "id": "luW22OKYxEL3"
      },
      "source": [
        "**05) Efetuar a divisão de 10 por 4**"
      ]
    },
    {
      "cell_type": "code",
      "metadata": {
        "id": "xxIaA7-oxOoT",
        "outputId": "d184ae64-11fc-450a-b063-ca76e34f1f41",
        "colab": {
          "base_uri": "https://localhost:8080/"
        }
      },
      "source": [
        "print(10 / 4)"
      ],
      "execution_count": null,
      "outputs": [
        {
          "output_type": "stream",
          "name": "stdout",
          "text": [
            "2.5\n"
          ]
        }
      ]
    },
    {
      "cell_type": "markdown",
      "metadata": {
        "id": "JRxC-rLoxNOS"
      },
      "source": [
        "**06) Efetuar o resto da divisão de 10 por 4**"
      ]
    },
    {
      "cell_type": "code",
      "metadata": {
        "id": "-yX49qJvxM_K",
        "outputId": "64b46bbe-751d-4583-fac2-63bd5395d17f",
        "colab": {
          "base_uri": "https://localhost:8080/"
        }
      },
      "source": [
        "print(10 % 4)"
      ],
      "execution_count": null,
      "outputs": [
        {
          "output_type": "stream",
          "name": "stdout",
          "text": [
            "2\n"
          ]
        }
      ]
    },
    {
      "cell_type": "markdown",
      "metadata": {
        "id": "yv0oJ7w_xUaV"
      },
      "source": [
        "**07) Efetuar a divisão inteira de 10 por 4**"
      ]
    },
    {
      "cell_type": "code",
      "metadata": {
        "id": "xSa_QSJCxfFc",
        "outputId": "5f2b567d-3918-4310-88ea-a62eef227120",
        "colab": {
          "base_uri": "https://localhost:8080/"
        }
      },
      "source": [
        "print(10 // 4)"
      ],
      "execution_count": null,
      "outputs": [
        {
          "output_type": "stream",
          "name": "stdout",
          "text": [
            "2\n"
          ]
        }
      ]
    },
    {
      "cell_type": "markdown",
      "metadata": {
        "id": "TzbzmsMuxfpj"
      },
      "source": [
        "**08) Avaliar a expressão** `5 > 3 and 6 > 3`"
      ]
    },
    {
      "cell_type": "code",
      "metadata": {
        "id": "TcGHzpONxoro",
        "outputId": "ceebfb00-e6df-4632-a46e-cece6aca34be",
        "colab": {
          "base_uri": "https://localhost:8080/"
        }
      },
      "source": [
        "5 > 3 and 6 > 3"
      ],
      "execution_count": null,
      "outputs": [
        {
          "output_type": "execute_result",
          "data": {
            "text/plain": [
              "True"
            ]
          },
          "metadata": {},
          "execution_count": 11
        }
      ]
    },
    {
      "cell_type": "markdown",
      "metadata": {
        "id": "K8cygry6xpLA"
      },
      "source": [
        "**09) Avaliar a expressão** `5 > 3 or 5 < 3`"
      ]
    },
    {
      "cell_type": "code",
      "metadata": {
        "id": "T9w5Rix-xy1n",
        "outputId": "3e401a99-8bc9-4972-8a9e-10e08c7fea1e",
        "colab": {
          "base_uri": "https://localhost:8080/"
        }
      },
      "source": [
        "5 > 3 or 5 < 3"
      ],
      "execution_count": null,
      "outputs": [
        {
          "output_type": "execute_result",
          "data": {
            "text/plain": [
              "True"
            ]
          },
          "metadata": {},
          "execution_count": 12
        }
      ]
    },
    {
      "cell_type": "markdown",
      "metadata": {
        "id": "A5a_mXYOxzSE"
      },
      "source": [
        "**10) Avaliar a expressão** `1==2 or 1==1 and not 1==2`"
      ]
    },
    {
      "cell_type": "code",
      "metadata": {
        "id": "4cg9DMMdx8Ww",
        "outputId": "c57cbf83-edde-4b16-9cf5-18db05058a3b",
        "colab": {
          "base_uri": "https://localhost:8080/"
        }
      },
      "source": [
        "1==2 or 1==1 and not 1==2"
      ],
      "execution_count": null,
      "outputs": [
        {
          "output_type": "execute_result",
          "data": {
            "text/plain": [
              "True"
            ]
          },
          "metadata": {},
          "execution_count": 13
        }
      ]
    }
  ]
}