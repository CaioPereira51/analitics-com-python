{
  "nbformat": 4,
  "nbformat_minor": 0,
  "metadata": {
    "kernelspec": {
      "display_name": "Python 3",
      "language": "python",
      "name": "python3"
    },
    "language_info": {
      "codemirror_mode": {
        "name": "ipython",
        "version": 3
      },
      "file_extension": ".py",
      "mimetype": "text/x-python",
      "name": "python",
      "nbconvert_exporter": "python",
      "pygments_lexer": "ipython3",
      "version": "3.7.4"
    },
    "colab": {
      "provenance": [],
      "toc_visible": true,
      "include_colab_link": true
    }
  },
  "cells": [
    {
      "cell_type": "markdown",
      "metadata": {
        "id": "view-in-github",
        "colab_type": "text"
      },
      "source": [
        "<a href=\"https://colab.research.google.com/github/CaioPereira51/analitics-com-python/blob/main/CaioPereira_lista08.ipynb\" target=\"_parent\"><img src=\"https://colab.research.google.com/assets/colab-badge.svg\" alt=\"Open In Colab\"/></a>"
      ]
    },
    {
      "cell_type": "markdown",
      "metadata": {
        "id": "Ve2cOW3-EnxE"
      },
      "source": [
        "# <font color='blue'>FUMEC - Analytics com Python</font>\n",
        "## **Lista de exercícios 08 - Regressão**\n",
        "\n",
        "<br>**ATENÇÃO:** para salvar o arquivo .ipynb do notebook, faça da seguinte forma:\n",
        "\n",
        "* **Google Colaboratory**: opção do menu \"File --> Download .ipynb\"\n",
        "\n",
        "* Salve o arquivo com o nome \"**SeuNome_lista08.ipynb**\"\n",
        "\n",
        "<br>\n",
        "\n"
      ]
    },
    {
      "cell_type": "markdown",
      "metadata": {
        "id": "C4xMkqX-shb7"
      },
      "source": [
        "### **Importar o arquivo de dados**:\n",
        "\n",
        "Importar o arquivo de dados \"**dados_portuarios.csv**\" para o Google Colab.\n",
        "\n"
      ]
    },
    {
      "cell_type": "code",
      "metadata": {
        "id": "58DjWjEjyA3s"
      },
      "source": [
        "import pandas as pd\n",
        "import numpy as np  #biblioteca necessária para trabalhar com os vetores e matrizes\n",
        "import matplotlib.pyplot as plt #biblioteca utilizada para construir os gráficos"
      ],
      "execution_count": 3,
      "outputs": []
    },
    {
      "cell_type": "markdown",
      "metadata": {
        "id": "w-966ofddmsf"
      },
      "source": [
        "### **01) Carregar e preparar o dataset para a regressão**:\n",
        "\n",
        "Explorar o dataset \"**dados_portuarios.csv**\" utilizando os recursos da biblioteca Pandas.\n",
        "\n"
      ]
    },
    {
      "cell_type": "code",
      "metadata": {
        "id": "PJ_cafkjf2X9",
        "outputId": "6394bca1-db7d-48c4-baf9-86896e79dcc4",
        "colab": {
          "base_uri": "https://localhost:8080/",
          "height": 206
        }
      },
      "source": [
        "df = pd.read_csv('https://drive.google.com/uc?export=download&id=1zM8H-0Qha-8iI4Q-3tAnCJqZcB6AmpZx')\n",
        "df.head()"
      ],
      "execution_count": 5,
      "outputs": [
        {
          "output_type": "execute_result",
          "data": {
            "text/plain": [
              "   valid_import   item  importer_id  exporter_id country_of_origin  \\\n",
              "0          True  cigar          111          222             India   \n",
              "1          True  cigar          111          222             India   \n",
              "2          True  cigar          111          222             India   \n",
              "3          True  cigar          111          222             India   \n",
              "4          True  cigar          111          222             China   \n",
              "\n",
              "   declared_quantity  declared_cost mode_of_transport    route  \\\n",
              "0                129    3784.402551               sea     asia   \n",
              "1                104    3081.350806               sea  america   \n",
              "2                130    4414.125741               sea   europe   \n",
              "3                143    2533.535991               sea   panama   \n",
              "4                141    4396.397887               sea     asia   \n",
              "\n",
              "  date_of_departure date_of_arrival  declared_weight  actual_weight  \\\n",
              "0        04/25/2019      05/13/2019      1608.605135    1637.661221   \n",
              "1        04/22/2019      05/24/2019       831.719301     848.273419   \n",
              "2        04/29/2019      05/16/2019      1527.704165    1582.063911   \n",
              "3        05/05/2019      05/25/2019      1138.680563    1179.993817   \n",
              "4        05/14/2019      06/05/2019       761.744581     781.735080   \n",
              "\n",
              "   days_in_transit  \n",
              "0        18.232857  \n",
              "1        32.436029  \n",
              "2        16.996206  \n",
              "3        19.965886  \n",
              "4        22.160034  "
            ],
            "text/html": [
              "\n",
              "  <div id=\"df-7d5f3bf0-e2a0-43d4-ab5a-dc7d888e2bf4\" class=\"colab-df-container\">\n",
              "    <div>\n",
              "<style scoped>\n",
              "    .dataframe tbody tr th:only-of-type {\n",
              "        vertical-align: middle;\n",
              "    }\n",
              "\n",
              "    .dataframe tbody tr th {\n",
              "        vertical-align: top;\n",
              "    }\n",
              "\n",
              "    .dataframe thead th {\n",
              "        text-align: right;\n",
              "    }\n",
              "</style>\n",
              "<table border=\"1\" class=\"dataframe\">\n",
              "  <thead>\n",
              "    <tr style=\"text-align: right;\">\n",
              "      <th></th>\n",
              "      <th>valid_import</th>\n",
              "      <th>item</th>\n",
              "      <th>importer_id</th>\n",
              "      <th>exporter_id</th>\n",
              "      <th>country_of_origin</th>\n",
              "      <th>declared_quantity</th>\n",
              "      <th>declared_cost</th>\n",
              "      <th>mode_of_transport</th>\n",
              "      <th>route</th>\n",
              "      <th>date_of_departure</th>\n",
              "      <th>date_of_arrival</th>\n",
              "      <th>declared_weight</th>\n",
              "      <th>actual_weight</th>\n",
              "      <th>days_in_transit</th>\n",
              "    </tr>\n",
              "  </thead>\n",
              "  <tbody>\n",
              "    <tr>\n",
              "      <th>0</th>\n",
              "      <td>True</td>\n",
              "      <td>cigar</td>\n",
              "      <td>111</td>\n",
              "      <td>222</td>\n",
              "      <td>India</td>\n",
              "      <td>129</td>\n",
              "      <td>3784.402551</td>\n",
              "      <td>sea</td>\n",
              "      <td>asia</td>\n",
              "      <td>04/25/2019</td>\n",
              "      <td>05/13/2019</td>\n",
              "      <td>1608.605135</td>\n",
              "      <td>1637.661221</td>\n",
              "      <td>18.232857</td>\n",
              "    </tr>\n",
              "    <tr>\n",
              "      <th>1</th>\n",
              "      <td>True</td>\n",
              "      <td>cigar</td>\n",
              "      <td>111</td>\n",
              "      <td>222</td>\n",
              "      <td>India</td>\n",
              "      <td>104</td>\n",
              "      <td>3081.350806</td>\n",
              "      <td>sea</td>\n",
              "      <td>america</td>\n",
              "      <td>04/22/2019</td>\n",
              "      <td>05/24/2019</td>\n",
              "      <td>831.719301</td>\n",
              "      <td>848.273419</td>\n",
              "      <td>32.436029</td>\n",
              "    </tr>\n",
              "    <tr>\n",
              "      <th>2</th>\n",
              "      <td>True</td>\n",
              "      <td>cigar</td>\n",
              "      <td>111</td>\n",
              "      <td>222</td>\n",
              "      <td>India</td>\n",
              "      <td>130</td>\n",
              "      <td>4414.125741</td>\n",
              "      <td>sea</td>\n",
              "      <td>europe</td>\n",
              "      <td>04/29/2019</td>\n",
              "      <td>05/16/2019</td>\n",
              "      <td>1527.704165</td>\n",
              "      <td>1582.063911</td>\n",
              "      <td>16.996206</td>\n",
              "    </tr>\n",
              "    <tr>\n",
              "      <th>3</th>\n",
              "      <td>True</td>\n",
              "      <td>cigar</td>\n",
              "      <td>111</td>\n",
              "      <td>222</td>\n",
              "      <td>India</td>\n",
              "      <td>143</td>\n",
              "      <td>2533.535991</td>\n",
              "      <td>sea</td>\n",
              "      <td>panama</td>\n",
              "      <td>05/05/2019</td>\n",
              "      <td>05/25/2019</td>\n",
              "      <td>1138.680563</td>\n",
              "      <td>1179.993817</td>\n",
              "      <td>19.965886</td>\n",
              "    </tr>\n",
              "    <tr>\n",
              "      <th>4</th>\n",
              "      <td>True</td>\n",
              "      <td>cigar</td>\n",
              "      <td>111</td>\n",
              "      <td>222</td>\n",
              "      <td>China</td>\n",
              "      <td>141</td>\n",
              "      <td>4396.397887</td>\n",
              "      <td>sea</td>\n",
              "      <td>asia</td>\n",
              "      <td>05/14/2019</td>\n",
              "      <td>06/05/2019</td>\n",
              "      <td>761.744581</td>\n",
              "      <td>781.735080</td>\n",
              "      <td>22.160034</td>\n",
              "    </tr>\n",
              "  </tbody>\n",
              "</table>\n",
              "</div>\n",
              "    <div class=\"colab-df-buttons\">\n",
              "\n",
              "  <div class=\"colab-df-container\">\n",
              "    <button class=\"colab-df-convert\" onclick=\"convertToInteractive('df-7d5f3bf0-e2a0-43d4-ab5a-dc7d888e2bf4')\"\n",
              "            title=\"Convert this dataframe to an interactive table.\"\n",
              "            style=\"display:none;\">\n",
              "\n",
              "  <svg xmlns=\"http://www.w3.org/2000/svg\" height=\"24px\" viewBox=\"0 -960 960 960\">\n",
              "    <path d=\"M120-120v-720h720v720H120Zm60-500h600v-160H180v160Zm220 220h160v-160H400v160Zm0 220h160v-160H400v160ZM180-400h160v-160H180v160Zm440 0h160v-160H620v160ZM180-180h160v-160H180v160Zm440 0h160v-160H620v160Z\"/>\n",
              "  </svg>\n",
              "    </button>\n",
              "\n",
              "  <style>\n",
              "    .colab-df-container {\n",
              "      display:flex;\n",
              "      gap: 12px;\n",
              "    }\n",
              "\n",
              "    .colab-df-convert {\n",
              "      background-color: #E8F0FE;\n",
              "      border: none;\n",
              "      border-radius: 50%;\n",
              "      cursor: pointer;\n",
              "      display: none;\n",
              "      fill: #1967D2;\n",
              "      height: 32px;\n",
              "      padding: 0 0 0 0;\n",
              "      width: 32px;\n",
              "    }\n",
              "\n",
              "    .colab-df-convert:hover {\n",
              "      background-color: #E2EBFA;\n",
              "      box-shadow: 0px 1px 2px rgba(60, 64, 67, 0.3), 0px 1px 3px 1px rgba(60, 64, 67, 0.15);\n",
              "      fill: #174EA6;\n",
              "    }\n",
              "\n",
              "    .colab-df-buttons div {\n",
              "      margin-bottom: 4px;\n",
              "    }\n",
              "\n",
              "    [theme=dark] .colab-df-convert {\n",
              "      background-color: #3B4455;\n",
              "      fill: #D2E3FC;\n",
              "    }\n",
              "\n",
              "    [theme=dark] .colab-df-convert:hover {\n",
              "      background-color: #434B5C;\n",
              "      box-shadow: 0px 1px 3px 1px rgba(0, 0, 0, 0.15);\n",
              "      filter: drop-shadow(0px 1px 2px rgba(0, 0, 0, 0.3));\n",
              "      fill: #FFFFFF;\n",
              "    }\n",
              "  </style>\n",
              "\n",
              "    <script>\n",
              "      const buttonEl =\n",
              "        document.querySelector('#df-7d5f3bf0-e2a0-43d4-ab5a-dc7d888e2bf4 button.colab-df-convert');\n",
              "      buttonEl.style.display =\n",
              "        google.colab.kernel.accessAllowed ? 'block' : 'none';\n",
              "\n",
              "      async function convertToInteractive(key) {\n",
              "        const element = document.querySelector('#df-7d5f3bf0-e2a0-43d4-ab5a-dc7d888e2bf4');\n",
              "        const dataTable =\n",
              "          await google.colab.kernel.invokeFunction('convertToInteractive',\n",
              "                                                    [key], {});\n",
              "        if (!dataTable) return;\n",
              "\n",
              "        const docLinkHtml = 'Like what you see? Visit the ' +\n",
              "          '<a target=\"_blank\" href=https://colab.research.google.com/notebooks/data_table.ipynb>data table notebook</a>'\n",
              "          + ' to learn more about interactive tables.';\n",
              "        element.innerHTML = '';\n",
              "        dataTable['output_type'] = 'display_data';\n",
              "        await google.colab.output.renderOutput(dataTable, element);\n",
              "        const docLink = document.createElement('div');\n",
              "        docLink.innerHTML = docLinkHtml;\n",
              "        element.appendChild(docLink);\n",
              "      }\n",
              "    </script>\n",
              "  </div>\n",
              "\n",
              "\n",
              "<div id=\"df-144ed4ed-ea0c-489b-b533-6e864b3af3cc\">\n",
              "  <button class=\"colab-df-quickchart\" onclick=\"quickchart('df-144ed4ed-ea0c-489b-b533-6e864b3af3cc')\"\n",
              "            title=\"Suggest charts.\"\n",
              "            style=\"display:none;\">\n",
              "\n",
              "<svg xmlns=\"http://www.w3.org/2000/svg\" height=\"24px\"viewBox=\"0 0 24 24\"\n",
              "     width=\"24px\">\n",
              "    <g>\n",
              "        <path d=\"M19 3H5c-1.1 0-2 .9-2 2v14c0 1.1.9 2 2 2h14c1.1 0 2-.9 2-2V5c0-1.1-.9-2-2-2zM9 17H7v-7h2v7zm4 0h-2V7h2v10zm4 0h-2v-4h2v4z\"/>\n",
              "    </g>\n",
              "</svg>\n",
              "  </button>\n",
              "\n",
              "<style>\n",
              "  .colab-df-quickchart {\n",
              "      --bg-color: #E8F0FE;\n",
              "      --fill-color: #1967D2;\n",
              "      --hover-bg-color: #E2EBFA;\n",
              "      --hover-fill-color: #174EA6;\n",
              "      --disabled-fill-color: #AAA;\n",
              "      --disabled-bg-color: #DDD;\n",
              "  }\n",
              "\n",
              "  [theme=dark] .colab-df-quickchart {\n",
              "      --bg-color: #3B4455;\n",
              "      --fill-color: #D2E3FC;\n",
              "      --hover-bg-color: #434B5C;\n",
              "      --hover-fill-color: #FFFFFF;\n",
              "      --disabled-bg-color: #3B4455;\n",
              "      --disabled-fill-color: #666;\n",
              "  }\n",
              "\n",
              "  .colab-df-quickchart {\n",
              "    background-color: var(--bg-color);\n",
              "    border: none;\n",
              "    border-radius: 50%;\n",
              "    cursor: pointer;\n",
              "    display: none;\n",
              "    fill: var(--fill-color);\n",
              "    height: 32px;\n",
              "    padding: 0;\n",
              "    width: 32px;\n",
              "  }\n",
              "\n",
              "  .colab-df-quickchart:hover {\n",
              "    background-color: var(--hover-bg-color);\n",
              "    box-shadow: 0 1px 2px rgba(60, 64, 67, 0.3), 0 1px 3px 1px rgba(60, 64, 67, 0.15);\n",
              "    fill: var(--button-hover-fill-color);\n",
              "  }\n",
              "\n",
              "  .colab-df-quickchart-complete:disabled,\n",
              "  .colab-df-quickchart-complete:disabled:hover {\n",
              "    background-color: var(--disabled-bg-color);\n",
              "    fill: var(--disabled-fill-color);\n",
              "    box-shadow: none;\n",
              "  }\n",
              "\n",
              "  .colab-df-spinner {\n",
              "    border: 2px solid var(--fill-color);\n",
              "    border-color: transparent;\n",
              "    border-bottom-color: var(--fill-color);\n",
              "    animation:\n",
              "      spin 1s steps(1) infinite;\n",
              "  }\n",
              "\n",
              "  @keyframes spin {\n",
              "    0% {\n",
              "      border-color: transparent;\n",
              "      border-bottom-color: var(--fill-color);\n",
              "      border-left-color: var(--fill-color);\n",
              "    }\n",
              "    20% {\n",
              "      border-color: transparent;\n",
              "      border-left-color: var(--fill-color);\n",
              "      border-top-color: var(--fill-color);\n",
              "    }\n",
              "    30% {\n",
              "      border-color: transparent;\n",
              "      border-left-color: var(--fill-color);\n",
              "      border-top-color: var(--fill-color);\n",
              "      border-right-color: var(--fill-color);\n",
              "    }\n",
              "    40% {\n",
              "      border-color: transparent;\n",
              "      border-right-color: var(--fill-color);\n",
              "      border-top-color: var(--fill-color);\n",
              "    }\n",
              "    60% {\n",
              "      border-color: transparent;\n",
              "      border-right-color: var(--fill-color);\n",
              "    }\n",
              "    80% {\n",
              "      border-color: transparent;\n",
              "      border-right-color: var(--fill-color);\n",
              "      border-bottom-color: var(--fill-color);\n",
              "    }\n",
              "    90% {\n",
              "      border-color: transparent;\n",
              "      border-bottom-color: var(--fill-color);\n",
              "    }\n",
              "  }\n",
              "</style>\n",
              "\n",
              "  <script>\n",
              "    async function quickchart(key) {\n",
              "      const quickchartButtonEl =\n",
              "        document.querySelector('#' + key + ' button');\n",
              "      quickchartButtonEl.disabled = true;  // To prevent multiple clicks.\n",
              "      quickchartButtonEl.classList.add('colab-df-spinner');\n",
              "      try {\n",
              "        const charts = await google.colab.kernel.invokeFunction(\n",
              "            'suggestCharts', [key], {});\n",
              "      } catch (error) {\n",
              "        console.error('Error during call to suggestCharts:', error);\n",
              "      }\n",
              "      quickchartButtonEl.classList.remove('colab-df-spinner');\n",
              "      quickchartButtonEl.classList.add('colab-df-quickchart-complete');\n",
              "    }\n",
              "    (() => {\n",
              "      let quickchartButtonEl =\n",
              "        document.querySelector('#df-144ed4ed-ea0c-489b-b533-6e864b3af3cc button');\n",
              "      quickchartButtonEl.style.display =\n",
              "        google.colab.kernel.accessAllowed ? 'block' : 'none';\n",
              "    })();\n",
              "  </script>\n",
              "</div>\n",
              "    </div>\n",
              "  </div>\n"
            ]
          },
          "metadata": {},
          "execution_count": 5
        }
      ]
    },
    {
      "cell_type": "markdown",
      "metadata": {
        "id": "ewJWixQohWr-"
      },
      "source": [
        "Listar o número de linhas e colunas do dataset"
      ]
    },
    {
      "cell_type": "code",
      "metadata": {
        "id": "rN-aqHZXhZ6M",
        "outputId": "da776492-985f-4d78-827e-ead4a90f22ca",
        "colab": {
          "base_uri": "https://localhost:8080/"
        }
      },
      "source": [
        "num = df.shape\n",
        "\n",
        "print(num)"
      ],
      "execution_count": 6,
      "outputs": [
        {
          "output_type": "stream",
          "name": "stdout",
          "text": [
            "(120, 14)\n"
          ]
        }
      ]
    },
    {
      "cell_type": "markdown",
      "metadata": {
        "id": "UOjhf1x-hd0G"
      },
      "source": [
        "Listar o nome das colunas do dataset"
      ]
    },
    {
      "cell_type": "code",
      "metadata": {
        "id": "9KY6UYJ9hftP",
        "outputId": "27fb365d-578f-492b-d990-fb7be86f5c48",
        "colab": {
          "base_uri": "https://localhost:8080/"
        }
      },
      "source": [
        "nomes = df.columns\n",
        "\n",
        "print(nomes)"
      ],
      "execution_count": 7,
      "outputs": [
        {
          "output_type": "stream",
          "name": "stdout",
          "text": [
            "Index(['valid_import', 'item', 'importer_id', 'exporter_id',\n",
            "       'country_of_origin', 'declared_quantity', 'declared_cost',\n",
            "       'mode_of_transport', 'route', 'date_of_departure', 'date_of_arrival',\n",
            "       'declared_weight', 'actual_weight', 'days_in_transit'],\n",
            "      dtype='object')\n"
          ]
        }
      ]
    },
    {
      "cell_type": "markdown",
      "metadata": {
        "id": "e52-gR9vhnQ3"
      },
      "source": [
        "Executar o resumo estatístico do dataset"
      ]
    },
    {
      "cell_type": "code",
      "metadata": {
        "id": "59EoOJnrhp9E",
        "outputId": "df5b0454-c433-471e-b674-3d412c763b9a",
        "colab": {
          "base_uri": "https://localhost:8080/"
        }
      },
      "source": [
        "resumo = df.describe()\n",
        "\n",
        "print(resumo)"
      ],
      "execution_count": 8,
      "outputs": [
        {
          "output_type": "stream",
          "name": "stdout",
          "text": [
            "       importer_id  exporter_id  declared_quantity  declared_cost  \\\n",
            "count        120.0        120.0         120.000000     120.000000   \n",
            "mean         111.0        222.0         127.458333    6743.649881   \n",
            "std            0.0          0.0          14.641311    2991.797050   \n",
            "min          111.0        222.0         100.000000    1441.012419   \n",
            "25%          111.0        222.0         115.750000    4442.903914   \n",
            "50%          111.0        222.0         131.500000    6010.218745   \n",
            "75%          111.0        222.0         139.000000    8887.095370   \n",
            "max          111.0        222.0         149.000000   14281.325362   \n",
            "\n",
            "       declared_weight  actual_weight  days_in_transit  \n",
            "count       120.000000     118.000000       120.000000  \n",
            "mean       1264.702934    1313.789858        35.424705  \n",
            "std         633.149971     660.023051        26.571591  \n",
            "min          18.459509      19.275241        12.410325  \n",
            "25%         820.314400     828.744375        18.225625  \n",
            "50%        1255.597743    1322.717048        27.044293  \n",
            "75%        1711.314045    1773.370875        44.356374  \n",
            "max        2806.338955    2918.681683       147.787560  \n"
          ]
        }
      ]
    },
    {
      "cell_type": "markdown",
      "metadata": {
        "id": "WcXW3Dcxg7nw"
      },
      "source": [
        "Verificar as informações do dataset com o método info()"
      ]
    },
    {
      "cell_type": "code",
      "metadata": {
        "id": "dFPo2yKKhBP_",
        "outputId": "c246e6fb-6f90-448d-9fee-74acfd2b126f",
        "colab": {
          "base_uri": "https://localhost:8080/"
        }
      },
      "source": [
        "df.info()"
      ],
      "execution_count": 9,
      "outputs": [
        {
          "output_type": "stream",
          "name": "stdout",
          "text": [
            "<class 'pandas.core.frame.DataFrame'>\n",
            "RangeIndex: 120 entries, 0 to 119\n",
            "Data columns (total 14 columns):\n",
            " #   Column             Non-Null Count  Dtype  \n",
            "---  ------             --------------  -----  \n",
            " 0   valid_import       120 non-null    bool   \n",
            " 1   item               120 non-null    object \n",
            " 2   importer_id        120 non-null    int64  \n",
            " 3   exporter_id        120 non-null    int64  \n",
            " 4   country_of_origin  120 non-null    object \n",
            " 5   declared_quantity  120 non-null    int64  \n",
            " 6   declared_cost      120 non-null    float64\n",
            " 7   mode_of_transport  120 non-null    object \n",
            " 8   route              120 non-null    object \n",
            " 9   date_of_departure  120 non-null    object \n",
            " 10  date_of_arrival    120 non-null    object \n",
            " 11  declared_weight    120 non-null    float64\n",
            " 12  actual_weight      118 non-null    float64\n",
            " 13  days_in_transit    120 non-null    float64\n",
            "dtypes: bool(1), float64(4), int64(3), object(6)\n",
            "memory usage: 12.4+ KB\n"
          ]
        }
      ]
    },
    {
      "cell_type": "markdown",
      "metadata": {
        "id": "2rn1JrqAjGYX"
      },
      "source": [
        "Listar o total de valores nulos (ausentes) em cada coluna"
      ]
    },
    {
      "cell_type": "code",
      "metadata": {
        "id": "yPWjaQdBjJHz",
        "outputId": "28f67205-cfef-44c0-f184-539a41934c6f",
        "colab": {
          "base_uri": "https://localhost:8080/"
        }
      },
      "source": [
        "df.isnull().sum()"
      ],
      "execution_count": 10,
      "outputs": [
        {
          "output_type": "execute_result",
          "data": {
            "text/plain": [
              "valid_import         0\n",
              "item                 0\n",
              "importer_id          0\n",
              "exporter_id          0\n",
              "country_of_origin    0\n",
              "declared_quantity    0\n",
              "declared_cost        0\n",
              "mode_of_transport    0\n",
              "route                0\n",
              "date_of_departure    0\n",
              "date_of_arrival      0\n",
              "declared_weight      0\n",
              "actual_weight        2\n",
              "days_in_transit      0\n",
              "dtype: int64"
            ]
          },
          "metadata": {},
          "execution_count": 10
        }
      ]
    },
    {
      "cell_type": "markdown",
      "metadata": {
        "id": "qHC7NFXxkAnq"
      },
      "source": [
        "Excluir as linhas do dataset onde ainda existem valores nulos\n"
      ]
    },
    {
      "cell_type": "code",
      "metadata": {
        "id": "8Q9dWhBgkE_9"
      },
      "source": [
        "df.dropna(inplace=True)"
      ],
      "execution_count": 11,
      "outputs": []
    },
    {
      "cell_type": "markdown",
      "metadata": {
        "id": "jKwrxhpWkNwD"
      },
      "source": [
        "Listar novamente o total de valores nulos de cada coluna"
      ]
    },
    {
      "cell_type": "code",
      "metadata": {
        "id": "rULb-mQVkNwG",
        "outputId": "fd7159a0-e68d-4e1f-b975-793f34c36a88",
        "colab": {
          "base_uri": "https://localhost:8080/"
        }
      },
      "source": [
        "df.isnull().sum()"
      ],
      "execution_count": 12,
      "outputs": [
        {
          "output_type": "execute_result",
          "data": {
            "text/plain": [
              "valid_import         0\n",
              "item                 0\n",
              "importer_id          0\n",
              "exporter_id          0\n",
              "country_of_origin    0\n",
              "declared_quantity    0\n",
              "declared_cost        0\n",
              "mode_of_transport    0\n",
              "route                0\n",
              "date_of_departure    0\n",
              "date_of_arrival      0\n",
              "declared_weight      0\n",
              "actual_weight        0\n",
              "days_in_transit      0\n",
              "dtype: int64"
            ]
          },
          "metadata": {},
          "execution_count": 12
        }
      ]
    },
    {
      "cell_type": "markdown",
      "metadata": {
        "id": "arb3VQuOkwHb"
      },
      "source": [
        "Verificar se existem **ouliers**, usando o **bloxplot**, para as colunas '**declared_weight**', '**actual_weight**', '**days_in_transit**'"
      ]
    },
    {
      "cell_type": "code",
      "metadata": {
        "id": "plpRs98ykfkz",
        "outputId": "f82d89ab-cb0c-49c6-d6af-74473edcd194",
        "colab": {
          "base_uri": "https://localhost:8080/",
          "height": 1000
        }
      },
      "source": [
        "for col in [\"declared_weight\", \"actual_weight\", \"days_in_transit\"]:\n",
        "  plt.figure()\n",
        "  df.boxplot(column=col)\n",
        "  plt.title(col)\n",
        "  plt.show()"
      ],
      "execution_count": 13,
      "outputs": [
        {
          "output_type": "display_data",
          "data": {
            "text/plain": [
              "<Figure size 640x480 with 1 Axes>"
            ],
            "image/png": "[encoded data removed]"
          },
          "metadata": {}
        },
        {
          "output_type": "display_data",
          "data": {
            "text/plain": [
              "<Figure size 640x480 with 1 Axes>"
            ],
            "image/png": "[encoded data removed]"
          },
          "metadata": {}
        },
        {
          "output_type": "display_data",
          "data": {
            "text/plain": [
              "<Figure size 640x480 with 1 Axes>"
            ],
            "image/png": "[encoded data removed]"
          },
          "metadata": {}
        }
      ]
    },
    {
      "cell_type": "markdown",
      "metadata": {
        "id": "75DFYEEOzG8w"
      },
      "source": [
        "Liste as linhas onde foram encontrados outliers"
      ]
    },
    {
      "cell_type": "code",
      "metadata": {
        "id": "PSTk2sZJ4umm",
        "outputId": "10e4125b-f951-4713-a80d-f5184049a902",
        "colab": {
          "base_uri": "https://localhost:8080/"
        }
      },
      "source": [
        "for col in [\"declared_weight\", \"actual_weight\", \"days_in_transit\"]:\n",
        "    print(df[col])"
      ],
      "execution_count": 14,
      "outputs": [
        {
          "output_type": "stream",
          "name": "stdout",
          "text": [
            "0      1608.605135\n",
            "1       831.719301\n",
            "2      1527.704165\n",
            "3      1138.680563\n",
            "4       761.744581\n",
            "          ...     \n",
            "115    1757.322008\n",
            "116     475.654903\n",
            "117     130.262964\n",
            "118      61.572459\n",
            "119     920.743397\n",
            "Name: declared_weight, Length: 118, dtype: float64\n",
            "0      1637.661221\n",
            "1       848.273419\n",
            "2      1582.063911\n",
            "3      1179.993817\n",
            "4       781.735080\n",
            "          ...     \n",
            "115    1827.472780\n",
            "116     490.562199\n",
            "117     136.161003\n",
            "118      63.708666\n",
            "119     955.979634\n",
            "Name: actual_weight, Length: 118, dtype: float64\n",
            "0      18.232857\n",
            "1      32.436029\n",
            "2      16.996206\n",
            "3      19.965886\n",
            "4      22.160034\n",
            "         ...    \n",
            "115    63.817343\n",
            "116    61.979928\n",
            "117    50.582027\n",
            "118    44.787806\n",
            "119    19.814924\n",
            "Name: days_in_transit, Length: 118, dtype: float64\n"
          ]
        }
      ]
    },
    {
      "cell_type": "markdown",
      "metadata": {
        "id": "mdDnGLUyzRAW"
      },
      "source": [
        "Remova as linhas com ouliers"
      ]
    },
    {
      "cell_type": "code",
      "metadata": {
        "id": "BYVLE4cRzTfQ"
      },
      "source": [],
      "execution_count": 15,
      "outputs": []
    },
    {
      "cell_type": "markdown",
      "metadata": {
        "id": "V8PV8_f_z22v"
      },
      "source": [
        "### **02) Realizar a regressão no dataset preparado**:\n",
        "\n",
        "\n"
      ]
    },
    {
      "cell_type": "markdown",
      "metadata": {
        "id": "NiFHv51Fz_kb"
      },
      "source": [
        "Selecionando as colunas para a regressão\n",
        "\n",
        "*   Usar os dados da coluna '**declared_weight**' como variável independente (X)\n",
        "*   Usar os dados da coluna '**actual_weight**' como variável dependente ou alvo da predição da regressão (y)\n",
        "\n"
      ]
    },
    {
      "cell_type": "code",
      "metadata": {
        "id": "ahk7gnSmz8wj"
      },
      "source": [],
      "execution_count": null,
      "outputs": []
    },
    {
      "cell_type": "markdown",
      "metadata": {
        "id": "6daItayy0Ygg"
      },
      "source": [
        "Colocar os dados da variável X no formato apropriado para a regressão usando o comando reshape"
      ]
    },
    {
      "cell_type": "code",
      "metadata": {
        "id": "P7B0p7WM0oCs"
      },
      "source": [],
      "execution_count": null,
      "outputs": []
    },
    {
      "cell_type": "markdown",
      "metadata": {
        "id": "NEB5HDCz2BCX"
      },
      "source": [
        "Plotar um gráfico de dispersão com o pontos das variáveis X e y"
      ]
    },
    {
      "cell_type": "code",
      "metadata": {
        "id": "2MfRM32z2EpQ"
      },
      "source": [],
      "execution_count": null,
      "outputs": []
    },
    {
      "cell_type": "markdown",
      "metadata": {
        "id": "UYguyVto0309"
      },
      "source": [
        "Realize a previsão usando a regressão linear"
      ]
    },
    {
      "cell_type": "code",
      "metadata": {
        "id": "Da5nFjNh07VQ"
      },
      "source": [
        "from sklearn.linear_model import LinearRegression\n",
        "\n"
      ],
      "execution_count": null,
      "outputs": []
    },
    {
      "cell_type": "markdown",
      "metadata": {
        "id": "_EGuCWFJ1QYo"
      },
      "source": [
        "Exiba a equação da reta encontrada (y = aX + b)"
      ]
    },
    {
      "cell_type": "code",
      "metadata": {
        "id": "WLqTH7Y21Xa4"
      },
      "source": [],
      "execution_count": null,
      "outputs": []
    },
    {
      "cell_type": "markdown",
      "metadata": {
        "id": "a02_TRLw1iZO"
      },
      "source": [
        "Apresente o coeficiente de determinação (R2)"
      ]
    },
    {
      "cell_type": "code",
      "metadata": {
        "id": "8v_ieaLp1pCr"
      },
      "source": [
        "from sklearn.metrics import r2_score #método para o cálculo do R2 (coeficiente de determinação)\n",
        "\n"
      ],
      "execution_count": null,
      "outputs": []
    },
    {
      "cell_type": "markdown",
      "metadata": {
        "id": "clfHQcM5eHuY"
      },
      "source": [
        "Apresente o erro médio quadrático (MSE)\n",
        "\n"
      ]
    },
    {
      "cell_type": "code",
      "metadata": {
        "id": "XavJkmHBeIVm"
      },
      "source": [
        "from sklearn.metrics import mean_squared_error\n",
        "\n"
      ],
      "execution_count": null,
      "outputs": []
    },
    {
      "cell_type": "markdown",
      "metadata": {
        "id": "1rsWiVSh2o-z"
      },
      "source": [
        "Plotar a reta da regressão juntamente com os pontos X e y no gráfico de dispersão"
      ]
    },
    {
      "cell_type": "code",
      "metadata": {
        "id": "pH-tke-f2sYF"
      },
      "source": [],
      "execution_count": null,
      "outputs": []
    },
    {
      "cell_type": "markdown",
      "metadata": {
        "id": "AGAUUzlR3T9G"
      },
      "source": [
        "Faça a predição dos mesmos dados usando árvore de decisão, apresentando o coeficiente de determinação (R2) e o erro médio quadrático (MSE)"
      ]
    },
    {
      "cell_type": "code",
      "metadata": {
        "id": "dCg_3vdr272w"
      },
      "source": [
        "from sklearn.tree import DecisionTreeRegressor  #importando a árvore de decisão como regressor\n",
        "\n"
      ],
      "execution_count": null,
      "outputs": []
    },
    {
      "cell_type": "markdown",
      "metadata": {
        "id": "aleR1xCN3fo8"
      },
      "source": [
        "Plotar a função da regressão da árvore de decisão juntamente com os pontos X e y no gráfico de dispersão"
      ]
    },
    {
      "cell_type": "code",
      "metadata": {
        "id": "73RJoNFV3E4L"
      },
      "source": [],
      "execution_count": null,
      "outputs": []
    }
  ]
}