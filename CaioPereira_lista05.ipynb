{
  "nbformat": 4,
  "nbformat_minor": 0,
  "metadata": {
    "kernelspec": {
      "display_name": "Python 3",
      "language": "python",
      "name": "python3"
    },
    "language_info": {
      "codemirror_mode": {
        "name": "ipython",
        "version": 3
      },
      "file_extension": ".py",
      "mimetype": "text/x-python",
      "name": "python",
      "nbconvert_exporter": "python",
      "pygments_lexer": "ipython3",
      "version": "3.7.4"
    },
    "colab": {
      "provenance": [],
      "include_colab_link": true
    }
  },
  "cells": [
    {
      "cell_type": "markdown",
      "metadata": {
        "id": "view-in-github",
        "colab_type": "text"
      },
      "source": [
        "<a href=\"https://colab.research.google.com/github/CaioPereira51/analitics-com-python/blob/main/CaioPereira_lista05.ipynb\" target=\"_parent\"><img src=\"https://colab.research.google.com/assets/colab-badge.svg\" alt=\"Open In Colab\"/></a>"
      ]
    },
    {
      "cell_type": "markdown",
      "metadata": {
        "id": "Ve2cOW3-EnxE"
      },
      "source": [
        "# <font color='blue'>FUMEC - Analytics com Python</font>\n",
        "## **Lista de exercícios 05 - Controle de fluxo e outros recursos da linguagems Python**\n",
        "\n",
        "<br>**ATENÇÃO:** para salvar o arquivo .ipynb do notebook, faça da seguinte forma:\n",
        "\n",
        "* **Google Colaboratory**: opção do menu \"Arquivo --> Fazer o donwnload --> Fazer download do .ipynb\"\n",
        "\n",
        "* Salve o arquivo com o nome \"**SeuNome_lista05.ipynb**\"\n",
        "\n",
        "<br>\n",
        "\n"
      ]
    },
    {
      "cell_type": "markdown",
      "metadata": {
        "id": "BtMjSfBLc1tL"
      },
      "source": [
        "### **01) Execute as seguintes tarefas**:\n",
        "\n",
        "1.   Crie uma função `primo` para calcular se um número passado como parâmetro é primo. A função deve retornar `True` ou `False`\n",
        "\n",
        "**Saída esperada**:\n",
        "```\n",
        "primo(1): False\n",
        "primo(7): True\n",
        "primo(52): False\n",
        "primo(53): True\n",
        "```\n",
        "\n"
      ]
    },
    {
      "cell_type": "code",
      "metadata": {
        "id": "L0PuBYqxEnxO",
        "colab": {
          "base_uri": "https://localhost:8080/"
        },
        "outputId": "7133f552-c4c7-483d-c092-59a5bdba9b0e"
      },
      "source": [
        "# exercício 01 - <escrever o código neste bloco>\n",
        "def calcula(numero):\n",
        "  if numero <= 1:\n",
        "    return False\n",
        "\n",
        "  for i in range(2, int(numero ** 0.5) + 1):\n",
        "    if numero % i == 0:\n",
        "      return False\n",
        "\n",
        "  return True\n",
        "\n",
        "\n",
        "print('Primo(', 1, '): ', calcula(1))\n",
        "print('Primo(', 7, '): ', calcula(7))\n",
        "print('Primo(', 52, '): ', calcula(52))\n",
        "print('Primo(', 53, '): ', calcula(53))\n"
      ],
      "execution_count": 8,
      "outputs": [
        {
          "output_type": "stream",
          "name": "stdout",
          "text": [
            "Primo( 1 ):  False\n",
            "Primo( 7 ):  True\n",
            "Primo( 52 ):  False\n",
            "Primo( 53 ):  True\n"
          ]
        }
      ]
    },
    {
      "cell_type": "markdown",
      "metadata": {
        "id": "rIIIF6VIohzZ"
      },
      "source": [
        "### **02) Execute as seguintes tarefas**:\n",
        "\n",
        "1.   Crie uma função `divisores` para retornar os divisores de um número passado como parâmetro. A função deve retornar a lista dos divisores.\n",
        "\n",
        "**Saída esperada**:\n",
        "```\n",
        "divisores(6): [1, 2, 3, 6]\n",
        "divisores(24): [1, 2, 3, 4, 6, 8, 12, 24]\n",
        "divisores(52): [1, 2, 4, 13, 26, 52]\n",
        "divisores(53): [1, 53]\n",
        "```"
      ]
    },
    {
      "cell_type": "code",
      "metadata": {
        "id": "eY9UWb_gojpl",
        "colab": {
          "base_uri": "https://localhost:8080/"
        },
        "outputId": "35f69d52-7865-45cd-a4fa-4f47db48cac6"
      },
      "source": [
        "# exercício 02 - <escrever o código neste bloco>\n",
        "num = int(input(\"Escreva um numero:\"))\n",
        "\n",
        "def divisores(n):\n",
        "  divisores = []\n",
        "\n",
        "  for i in range(1, n + 1):\n",
        "    if n % i == 0:\n",
        "      divisores.append(i)\n",
        "\n",
        "  return divisores\n",
        "\n",
        "print('Divisores(', num, '): ', divisores(num))"
      ],
      "execution_count": 10,
      "outputs": [
        {
          "output_type": "stream",
          "name": "stdout",
          "text": [
            "Escreva um numero:24\n",
            "Divisores( 24 ):  [1, 2, 3, 4, 6, 8, 12, 24]\n"
          ]
        }
      ]
    },
    {
      "cell_type": "markdown",
      "metadata": {
        "id": "nDHjeAtaPqbm"
      },
      "source": [
        "### **03) Execute as seguintes tarefas**:\n",
        "\n",
        "1. Dada a lista de nomes ordenados abaixo, utilize a função `map()` para retornar todos os nomes em CAIXA ALTA (LETRAS MAIÚSCULAS)\n",
        "```\n",
        "lista = ['abel', 'clara', 'joao', 'lucas', 'luciana', 'maria', 'pedro', 'renata', 'renato', 'rosana', 'ze']\n",
        "```\n",
        "\n",
        "**Saída esperada**:\n",
        "```\n",
        "['ABEL',\n",
        " 'CLARA',\n",
        " 'JOAO',\n",
        " 'LUCAS',\n",
        " 'LUCIANA',\n",
        " 'MARIA',\n",
        " 'PEDRO',\n",
        " 'RENATA',\n",
        " 'RENATO',\n",
        " 'ROSANA',\n",
        " 'ZE']\n",
        "```\n"
      ]
    },
    {
      "cell_type": "code",
      "metadata": {
        "id": "rLF6MrPmQV73",
        "colab": {
          "base_uri": "https://localhost:8080/"
        },
        "outputId": "60c07632-32cf-47a8-9cfd-5354ea4bae7c"
      },
      "source": [
        "# exercício 03 - <escrever o código neste bloco>\n",
        "lista = ['abel', 'clara', 'joao', 'lucas', 'luciana', 'maria', 'pedro', 'renata', 'renato', 'rosana', 'ze']\n",
        "\n",
        "def transforma(item):\n",
        "  return item.upper();\n",
        "\n",
        "list(map(transforma, lista))\n"
      ],
      "execution_count": 12,
      "outputs": [
        {
          "output_type": "execute_result",
          "data": {
            "text/plain": [
              "['ABEL',\n",
              " 'CLARA',\n",
              " 'JOAO',\n",
              " 'LUCAS',\n",
              " 'LUCIANA',\n",
              " 'MARIA',\n",
              " 'PEDRO',\n",
              " 'RENATA',\n",
              " 'RENATO',\n",
              " 'ROSANA',\n",
              " 'ZE']"
            ]
          },
          "metadata": {},
          "execution_count": 12
        }
      ]
    },
    {
      "cell_type": "markdown",
      "metadata": {
        "id": "JW6gLOJ1Q8LU"
      },
      "source": [
        "### **04) Execute as seguintes tarefas**:\n",
        "\n",
        "1. Dada a lista de nomes ordenados abaixo, utilize a função `filter()` para retornar todos os nomes que começam com a letra `\"l\"` ou terminam com `\"na\"`\n",
        "\n",
        "**Dica**: olhas as funções de string disponíveis, digitando `str.` e vendo as opções\n",
        "\n",
        "```\n",
        "lista = ['abel', 'clara', 'joao', 'lucas', 'luciana', 'maria', 'pedro', 'renata', 'renato', 'rosana', 'ze']\n",
        "```\n",
        "\n",
        "**Saída esperada**:\n",
        "```\n",
        "['lucas', 'luciana', 'rosana']\n",
        "```\n"
      ]
    },
    {
      "cell_type": "code",
      "metadata": {
        "id": "JAeIxg5hQ9_k",
        "colab": {
          "base_uri": "https://localhost:8080/"
        },
        "outputId": "1e637364-dc9f-4916-fae9-330917bcdf1b"
      },
      "source": [
        "# exercício 04 - <escrever o código neste bloco>\n",
        "lista = ['abel', 'clara', 'joao', 'lucas', 'luciana', 'maria', 'pedro', 'renata', 'renato', 'rosana', 'ze']\n",
        "\n",
        "def string(item):\n",
        "  return item[0] == 'l' or item[-2:] == 'na'\n",
        "\n",
        "list(filter(string, lista))\n"
      ],
      "execution_count": 19,
      "outputs": [
        {
          "output_type": "execute_result",
          "data": {
            "text/plain": [
              "['lucas', 'luciana', 'rosana']"
            ]
          },
          "metadata": {},
          "execution_count": 19
        }
      ]
    }
  ]
}