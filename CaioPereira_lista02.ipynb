{
  "nbformat": 4,
  "nbformat_minor": 0,
  "metadata": {
    "kernelspec": {
      "display_name": "Python 3",
      "language": "python",
      "name": "python3"
    },
    "language_info": {
      "codemirror_mode": {
        "name": "ipython",
        "version": 3
      },
      "file_extension": ".py",
      "mimetype": "text/x-python",
      "name": "python",
      "nbconvert_exporter": "python",
      "pygments_lexer": "ipython3",
      "version": "3.7.4"
    },
    "colab": {
      "provenance": [],
      "include_colab_link": true
    }
  },
  "cells": [
    {
      "cell_type": "markdown",
      "metadata": {
        "id": "view-in-github",
        "colab_type": "text"
      },
      "source": [
        "<a href=\"https://colab.research.google.com/github/CaioPereira51/analitics-com-python/blob/main/CaioPereira_lista02.ipynb\" target=\"_parent\"><img src=\"https://colab.research.google.com/assets/colab-badge.svg\" alt=\"Open In Colab\"/></a>"
      ]
    },
    {
      "cell_type": "markdown",
      "metadata": {
        "id": "Ve2cOW3-EnxE"
      },
      "source": [
        "# <font color='blue'>FUMEC - Analytics com Python</font>\n",
        "## **Lista de exercícios 02 - Tipos básicos de dados**\n",
        "\n",
        "<br>**ATENÇÃO:** para salvar o arquivo .ipynb do notebook, faça da seguinte forma:\n",
        "\n",
        "* **Google Colaboratory**: opção do menu \"Arquivo --> Fazer o donwnload --> Fazer download do .ipynb\"\n",
        "\n",
        "* Salve o arquivo com o nome \"**SeuNome_lista02.ipynb**\"\n",
        "\n",
        "<br>\n",
        "\n"
      ]
    },
    {
      "cell_type": "markdown",
      "metadata": {
        "id": "BLPhekz2EnxH"
      },
      "source": [
        "**01) Imprimir uma única string da forma apresentada abaixo (múltiplas linhas)**\n",
        "```\n",
        "Python\n",
        "é uma\n",
        "linguagem\n",
        "bem legal!\n",
        "```"
      ]
    },
    {
      "cell_type": "code",
      "metadata": {
        "id": "Sle_b3vhEnxJ",
        "outputId": "8a2b7b73-f52a-453b-a483-2873c49fdc06",
        "colab": {
          "base_uri": "https://localhost:8080/"
        }
      },
      "source": [
        "# exercício 01 - <escrever o código neste bloco>\n",
        "print(\"Python\\né uma\\nlinguagem\\nbem legal!\")\n"
      ],
      "execution_count": null,
      "outputs": [
        {
          "output_type": "stream",
          "name": "stdout",
          "text": [
            "Python\n",
            "é uma\n",
            "linguagem\n",
            "bem legal!\n"
          ]
        }
      ]
    },
    {
      "cell_type": "markdown",
      "metadata": {
        "id": "hmJafBCMEnxN"
      },
      "source": [
        "**02) Imprimir a string cujo código ASCII dos caracteres segue abaixo:**\n",
        "\n",
        "`97 110 97 108 121 116 105 99 115 32 99 111 109 32 112 121 116 104 111 110`\n"
      ]
    },
    {
      "cell_type": "code",
      "metadata": {
        "id": "L0PuBYqxEnxO",
        "outputId": "83bbe22a-7292-4174-d463-c3b37a7b63e0",
        "colab": {
          "base_uri": "https://localhost:8080/"
        }
      },
      "source": [
        "# exercício 02 - <escrever o código neste bloco>\n",
        "ascii = [97, 110, 97, 108, 121, 116, 105, 99, 115, 32, 99, 111, 109, 32, 112, 121, 116, 104, 111, 110]\n",
        "\n",
        "print(''.join(chr(num) for num in ascii))\n"
      ],
      "execution_count": null,
      "outputs": [
        {
          "output_type": "stream",
          "name": "stdout",
          "text": [
            "analytics com python\n"
          ]
        }
      ]
    },
    {
      "cell_type": "markdown",
      "metadata": {
        "id": "ge22ziLSEnxR"
      },
      "source": [
        "**03) Criar uma variável \"x\" e atribuir o valor \"o rato roeu a roupa\" e outra variável \"y\" com o valor \" do rei de roma\". Concatenar as duas variáveis em uma variável \"z\" e imprimir o conteúdo de \"z\"**"
      ]
    },
    {
      "cell_type": "code",
      "metadata": {
        "id": "UvR1jXWNEnxT",
        "outputId": "cd535895-b3e3-47c9-e97f-4db2fe3bdc4c",
        "colab": {
          "base_uri": "https://localhost:8080/"
        }
      },
      "source": [
        "# exercício 03 - <escrever o código neste bloco>\n",
        "x = \"o rato roeu a roupa\"\n",
        "y = \" do rei de roma\"\n",
        "z = x + y\n",
        "\n",
        "print(z)"
      ],
      "execution_count": null,
      "outputs": [
        {
          "output_type": "stream",
          "name": "stdout",
          "text": [
            "o rato roeu a roupa do rei de roma\n"
          ]
        }
      ]
    },
    {
      "cell_type": "markdown",
      "metadata": {
        "id": "7BML6APfEnxW"
      },
      "source": [
        "**04) Criar uma lista com as palavras da variável \"z\" do exercício anterior, produzindo a saída abaixo:**\n",
        "\n",
        "```['o', 'rato', 'roeu', 'a', 'roupa', 'do', 'rei', 'de', 'roma']```\n"
      ]
    },
    {
      "cell_type": "code",
      "metadata": {
        "id": "yMQftXmJEnxX",
        "outputId": "e5acc199-4ded-4565-c3fd-990359040578",
        "colab": {
          "base_uri": "https://localhost:8080/"
        }
      },
      "source": [
        "# exercício 04 - <escrever o código neste bloco>\n",
        "z = ['o', 'rato', 'roeu', 'a', 'roupa', 'do', 'rei', 'de', 'roma']\n",
        "\n",
        "for item in z:\n",
        "  resultado += item + \" \"\n",
        "\n",
        "print(resultado)\n"
      ],
      "execution_count": null,
      "outputs": [
        {
          "output_type": "stream",
          "name": "stdout",
          "text": [
            "o rato roeu a roupa do rei de roma \n"
          ]
        }
      ]
    },
    {
      "cell_type": "markdown",
      "metadata": {
        "id": "9_IT_G5CEnxb"
      },
      "source": [
        "**05) Crie variáveis string com o conteúdo \"Cinco elefantes \", \"incomodam \", \"muito mais!\" e a partir das três variáveis, imprima a frase abaixo:**\n",
        "\n",
        "`\"Cinco elefantes incomodam incomodam incomodam incomodam incomodam muito mais!\"`"
      ]
    },
    {
      "cell_type": "code",
      "metadata": {
        "id": "nFcx9sJ3Enxd",
        "outputId": "ad40402f-77e6-48a6-93e2-58b996e58944",
        "colab": {
          "base_uri": "https://localhost:8080/"
        }
      },
      "source": [
        "# exercício 05 - <escrever o código neste bloco>\n",
        "x = \"Cinco elefantes \"\n",
        "y = \"incomodam \"\n",
        "z = \"muito mais!\"\n",
        "\n",
        "print(x + (y*5) + z)\n"
      ],
      "execution_count": null,
      "outputs": [
        {
          "output_type": "stream",
          "name": "stdout",
          "text": [
            "Cinco elefantes incomodam incomodam incomodam incomodam incomodam muito mais!\n"
          ]
        }
      ]
    },
    {
      "cell_type": "markdown",
      "metadata": {
        "id": "g05LC4ILEnxg"
      },
      "source": [
        "**06) Formatar o número \"1100.12345\" da seguinte forma:***\n",
        "\n",
        "`R$ 1100,12 reais`"
      ]
    },
    {
      "cell_type": "code",
      "metadata": {
        "id": "Mxk4cgrwEnxh",
        "outputId": "a833f011-8b9c-4c65-d228-5746cd47a926",
        "colab": {
          "base_uri": "https://localhost:8080/"
        }
      },
      "source": [
        "# exercício 06 - <escrever o código neste bloco>\n",
        "print(\"R$ {0:.2f}\".format(1100.12345).replace('.',','))\n"
      ],
      "execution_count": null,
      "outputs": [
        {
          "output_type": "stream",
          "name": "stdout",
          "text": [
            "R$ 1100,12\n"
          ]
        }
      ]
    },
    {
      "cell_type": "markdown",
      "metadata": {
        "id": "z97SDwxIEnxl"
      },
      "source": [
        "**07) Considere a string \"Felicidade!\". Exiba o primeiro caracter e os dois últimos caracteres, conforme abaixo:**\n",
        "\n",
        "`F`\n",
        "\n",
        "`e!`\n"
      ]
    },
    {
      "cell_type": "code",
      "metadata": {
        "id": "yScgJqSaEnxm",
        "outputId": "6d77216b-763f-421e-bfc7-2704cd86148e",
        "colab": {
          "base_uri": "https://localhost:8080/"
        }
      },
      "source": [
        "# exercício 07 - <escrever o código neste bloco>\n",
        "palavra = 'Felicidade!'\n",
        "\n",
        "print(palavra[:1])\n",
        "print(palavra[9:])"
      ],
      "execution_count": null,
      "outputs": [
        {
          "output_type": "stream",
          "name": "stdout",
          "text": [
            "F\n",
            "e!\n"
          ]
        }
      ]
    },
    {
      "cell_type": "markdown",
      "metadata": {
        "id": "y49lKVAxEnxp"
      },
      "source": [
        "**08) Considere a string \"Banana\". Exiba os caracteres de dois em dois, conforme abaixo:**\n",
        "\n",
        "`Bnn`\n",
        "\n",
        "e depois\n",
        "\n",
        "`aaa`"
      ]
    },
    {
      "cell_type": "code",
      "metadata": {
        "id": "FgtIuPXxEnxr",
        "outputId": "a9e5eb3a-9238-4f28-b31e-d98844624f7b",
        "colab": {
          "base_uri": "https://localhost:8080/"
        }
      },
      "source": [
        "# exercício 08 - <escrever o código neste bloco>\n",
        "palavra = 'Banana'\n",
        "\n",
        "print(palavra.replace(\"a\", \"\"))\n",
        "print(palavra.replace(\"B\", \"\").replace(\"n\", \"\"))"
      ],
      "execution_count": null,
      "outputs": [
        {
          "output_type": "stream",
          "name": "stdout",
          "text": [
            "Bnn\n",
            "aaa\n"
          ]
        }
      ]
    }
  ]
}