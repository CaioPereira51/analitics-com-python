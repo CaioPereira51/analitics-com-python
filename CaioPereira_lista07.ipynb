{
  "nbformat": 4,
  "nbformat_minor": 0,
  "metadata": {
    "kernelspec": {
      "display_name": "Python 3",
      "language": "python",
      "name": "python3"
    },
    "language_info": {
      "codemirror_mode": {
        "name": "ipython",
        "version": 3
      },
      "file_extension": ".py",
      "mimetype": "text/x-python",
      "name": "python",
      "nbconvert_exporter": "python",
      "pygments_lexer": "ipython3",
      "version": "3.7.4"
    },
    "colab": {
      "provenance": [],
      "include_colab_link": true
    }
  },
  "cells": [
    {
      "cell_type": "markdown",
      "metadata": {
        "id": "view-in-github",
        "colab_type": "text"
      },
      "source": [
        "<a href=\"https://colab.research.google.com/github/CaioPereira51/analitics-com-python/blob/main/CaioPereira_lista07.ipynb\" target=\"_parent\"><img src=\"https://colab.research.google.com/assets/colab-badge.svg\" alt=\"Open In Colab\"/></a>"
      ]
    },
    {
      "cell_type": "markdown",
      "metadata": {
        "id": "Ve2cOW3-EnxE"
      },
      "source": [
        "# <font color='blue'>FUMEC - Analytics com Python</font>\n",
        "## **Lista de exercícios 07 - Análise de dados**\n",
        "\n",
        "<br>**ATENÇÃO:** para salvar o arquivo .ipynb do notebook, faça da seguinte forma:\n",
        "\n",
        "* **Google Colaboratory**: opção do menu \"Arquivo --> Fazer download --> Fazer o download do .ipynb\"\n",
        "\n",
        "* Salve o arquivo com o nome \"**SeuNome_lista07.ipynb**\"\n",
        "\n",
        "<br>\n",
        "\n"
      ]
    },
    {
      "cell_type": "markdown",
      "metadata": {
        "id": "C4xMkqX-shb7"
      },
      "source": [
        "### **Importar o arquivo de dados**:\n",
        "\n",
        "Arquivo de dados que será utilizado na lista de exercícios: \"**flights.csv**\".\n",
        "\n"
      ]
    },
    {
      "cell_type": "code",
      "metadata": {
        "id": "aMt4gwL-d1qD"
      },
      "source": [
        "url = 'https://drive.google.com/uc?export=download&id=1fqiEXAUp03XVaK2w066dWPlCrV0D32O-'"
      ],
      "execution_count": 1,
      "outputs": []
    },
    {
      "cell_type": "markdown",
      "metadata": {
        "id": "w-966ofddmsf"
      },
      "source": [
        "### **01) Execute as seguintes tarefas**:\n",
        "\n",
        "Explorar o dataset \"**flights.csv**\" utilizando os recursos da biblioteca Pandas.\n",
        "\n"
      ]
    },
    {
      "cell_type": "code",
      "metadata": {
        "id": "PJ_cafkjf2X9",
        "outputId": "20b30985-52f3-4d49-8c4d-b339e6471fae",
        "colab": {
          "base_uri": "https://localhost:8080/",
          "height": 206
        }
      },
      "source": [
        "import pandas as pd\n",
        "\n",
        "df = pd.read_csv(url)\n",
        "df.head()"
      ],
      "execution_count": 3,
      "outputs": [
        {
          "output_type": "execute_result",
          "data": {
            "text/plain": [
              "   MONTH  DAY  WEEKDAY AIRLINE ORG_AIR DEST_AIR  SCHED_DEP  DEP_DELAY  \\\n",
              "0      1    1        4      WN     LAX      SLC       1625       58.0   \n",
              "1      1    1        4      UA     DEN      IAD        823        7.0   \n",
              "2      1    1        4      MQ     DFW      VPS       1305       36.0   \n",
              "3      1    1        4      AA     DFW      DCA       1555        7.0   \n",
              "4      1    1        4      WN     LAX      MCI       1720       48.0   \n",
              "\n",
              "   AIR_TIME  DIST  SCHED_ARR  ARR_DELAY  DIVERTED  CANCELLED  \n",
              "0      94.0   590       1905       65.0         0          0  \n",
              "1     154.0  1452       1333      -13.0         0          0  \n",
              "2      85.0   641       1453       35.0         0          0  \n",
              "3     126.0  1192       1935       -7.0         0          0  \n",
              "4     166.0  1363       2225       39.0         0          0  "
            ],
            "text/html": [
              "\n",
              "  <div id=\"df-07b948f4-21ec-49d2-84c1-863fac65b9b3\" class=\"colab-df-container\">\n",
              "    <div>\n",
              "<style scoped>\n",
              "    .dataframe tbody tr th:only-of-type {\n",
              "        vertical-align: middle;\n",
              "    }\n",
              "\n",
              "    .dataframe tbody tr th {\n",
              "        vertical-align: top;\n",
              "    }\n",
              "\n",
              "    .dataframe thead th {\n",
              "        text-align: right;\n",
              "    }\n",
              "</style>\n",
              "<table border=\"1\" class=\"dataframe\">\n",
              "  <thead>\n",
              "    <tr style=\"text-align: right;\">\n",
              "      <th></th>\n",
              "      <th>MONTH</th>\n",
              "      <th>DAY</th>\n",
              "      <th>WEEKDAY</th>\n",
              "      <th>AIRLINE</th>\n",
              "      <th>ORG_AIR</th>\n",
              "      <th>DEST_AIR</th>\n",
              "      <th>SCHED_DEP</th>\n",
              "      <th>DEP_DELAY</th>\n",
              "      <th>AIR_TIME</th>\n",
              "      <th>DIST</th>\n",
              "      <th>SCHED_ARR</th>\n",
              "      <th>ARR_DELAY</th>\n",
              "      <th>DIVERTED</th>\n",
              "      <th>CANCELLED</th>\n",
              "    </tr>\n",
              "  </thead>\n",
              "  <tbody>\n",
              "    <tr>\n",
              "      <th>0</th>\n",
              "      <td>1</td>\n",
              "      <td>1</td>\n",
              "      <td>4</td>\n",
              "      <td>WN</td>\n",
              "      <td>LAX</td>\n",
              "      <td>SLC</td>\n",
              "      <td>1625</td>\n",
              "      <td>58.0</td>\n",
              "      <td>94.0</td>\n",
              "      <td>590</td>\n",
              "      <td>1905</td>\n",
              "      <td>65.0</td>\n",
              "      <td>0</td>\n",
              "      <td>0</td>\n",
              "    </tr>\n",
              "    <tr>\n",
              "      <th>1</th>\n",
              "      <td>1</td>\n",
              "      <td>1</td>\n",
              "      <td>4</td>\n",
              "      <td>UA</td>\n",
              "      <td>DEN</td>\n",
              "      <td>IAD</td>\n",
              "      <td>823</td>\n",
              "      <td>7.0</td>\n",
              "      <td>154.0</td>\n",
              "      <td>1452</td>\n",
              "      <td>1333</td>\n",
              "      <td>-13.0</td>\n",
              "      <td>0</td>\n",
              "      <td>0</td>\n",
              "    </tr>\n",
              "    <tr>\n",
              "      <th>2</th>\n",
              "      <td>1</td>\n",
              "      <td>1</td>\n",
              "      <td>4</td>\n",
              "      <td>MQ</td>\n",
              "      <td>DFW</td>\n",
              "      <td>VPS</td>\n",
              "      <td>1305</td>\n",
              "      <td>36.0</td>\n",
              "      <td>85.0</td>\n",
              "      <td>641</td>\n",
              "      <td>1453</td>\n",
              "      <td>35.0</td>\n",
              "      <td>0</td>\n",
              "      <td>0</td>\n",
              "    </tr>\n",
              "    <tr>\n",
              "      <th>3</th>\n",
              "      <td>1</td>\n",
              "      <td>1</td>\n",
              "      <td>4</td>\n",
              "      <td>AA</td>\n",
              "      <td>DFW</td>\n",
              "      <td>DCA</td>\n",
              "      <td>1555</td>\n",
              "      <td>7.0</td>\n",
              "      <td>126.0</td>\n",
              "      <td>1192</td>\n",
              "      <td>1935</td>\n",
              "      <td>-7.0</td>\n",
              "      <td>0</td>\n",
              "      <td>0</td>\n",
              "    </tr>\n",
              "    <tr>\n",
              "      <th>4</th>\n",
              "      <td>1</td>\n",
              "      <td>1</td>\n",
              "      <td>4</td>\n",
              "      <td>WN</td>\n",
              "      <td>LAX</td>\n",
              "      <td>MCI</td>\n",
              "      <td>1720</td>\n",
              "      <td>48.0</td>\n",
              "      <td>166.0</td>\n",
              "      <td>1363</td>\n",
              "      <td>2225</td>\n",
              "      <td>39.0</td>\n",
              "      <td>0</td>\n",
              "      <td>0</td>\n",
              "    </tr>\n",
              "  </tbody>\n",
              "</table>\n",
              "</div>\n",
              "    <div class=\"colab-df-buttons\">\n",
              "\n",
              "  <div class=\"colab-df-container\">\n",
              "    <button class=\"colab-df-convert\" onclick=\"convertToInteractive('df-07b948f4-21ec-49d2-84c1-863fac65b9b3')\"\n",
              "            title=\"Convert this dataframe to an interactive table.\"\n",
              "            style=\"display:none;\">\n",
              "\n",
              "  <svg xmlns=\"http://www.w3.org/2000/svg\" height=\"24px\" viewBox=\"0 -960 960 960\">\n",
              "    <path d=\"M120-120v-720h720v720H120Zm60-500h600v-160H180v160Zm220 220h160v-160H400v160Zm0 220h160v-160H400v160ZM180-400h160v-160H180v160Zm440 0h160v-160H620v160ZM180-180h160v-160H180v160Zm440 0h160v-160H620v160Z\"/>\n",
              "  </svg>\n",
              "    </button>\n",
              "\n",
              "  <style>\n",
              "    .colab-df-container {\n",
              "      display:flex;\n",
              "      gap: 12px;\n",
              "    }\n",
              "\n",
              "    .colab-df-convert {\n",
              "      background-color: #E8F0FE;\n",
              "      border: none;\n",
              "      border-radius: 50%;\n",
              "      cursor: pointer;\n",
              "      display: none;\n",
              "      fill: #1967D2;\n",
              "      height: 32px;\n",
              "      padding: 0 0 0 0;\n",
              "      width: 32px;\n",
              "    }\n",
              "\n",
              "    .colab-df-convert:hover {\n",
              "      background-color: #E2EBFA;\n",
              "      box-shadow: 0px 1px 2px rgba(60, 64, 67, 0.3), 0px 1px 3px 1px rgba(60, 64, 67, 0.15);\n",
              "      fill: #174EA6;\n",
              "    }\n",
              "\n",
              "    .colab-df-buttons div {\n",
              "      margin-bottom: 4px;\n",
              "    }\n",
              "\n",
              "    [theme=dark] .colab-df-convert {\n",
              "      background-color: #3B4455;\n",
              "      fill: #D2E3FC;\n",
              "    }\n",
              "\n",
              "    [theme=dark] .colab-df-convert:hover {\n",
              "      background-color: #434B5C;\n",
              "      box-shadow: 0px 1px 3px 1px rgba(0, 0, 0, 0.15);\n",
              "      filter: drop-shadow(0px 1px 2px rgba(0, 0, 0, 0.3));\n",
              "      fill: #FFFFFF;\n",
              "    }\n",
              "  </style>\n",
              "\n",
              "    <script>\n",
              "      const buttonEl =\n",
              "        document.querySelector('#df-07b948f4-21ec-49d2-84c1-863fac65b9b3 button.colab-df-convert');\n",
              "      buttonEl.style.display =\n",
              "        google.colab.kernel.accessAllowed ? 'block' : 'none';\n",
              "\n",
              "      async function convertToInteractive(key) {\n",
              "        const element = document.querySelector('#df-07b948f4-21ec-49d2-84c1-863fac65b9b3');\n",
              "        const dataTable =\n",
              "          await google.colab.kernel.invokeFunction('convertToInteractive',\n",
              "                                                    [key], {});\n",
              "        if (!dataTable) return;\n",
              "\n",
              "        const docLinkHtml = 'Like what you see? Visit the ' +\n",
              "          '<a target=\"_blank\" href=https://colab.research.google.com/notebooks/data_table.ipynb>data table notebook</a>'\n",
              "          + ' to learn more about interactive tables.';\n",
              "        element.innerHTML = '';\n",
              "        dataTable['output_type'] = 'display_data';\n",
              "        await google.colab.output.renderOutput(dataTable, element);\n",
              "        const docLink = document.createElement('div');\n",
              "        docLink.innerHTML = docLinkHtml;\n",
              "        element.appendChild(docLink);\n",
              "      }\n",
              "    </script>\n",
              "  </div>\n",
              "\n",
              "\n",
              "<div id=\"df-138b304c-8361-4775-9df1-43b8fdb282d1\">\n",
              "  <button class=\"colab-df-quickchart\" onclick=\"quickchart('df-138b304c-8361-4775-9df1-43b8fdb282d1')\"\n",
              "            title=\"Suggest charts.\"\n",
              "            style=\"display:none;\">\n",
              "\n",
              "<svg xmlns=\"http://www.w3.org/2000/svg\" height=\"24px\"viewBox=\"0 0 24 24\"\n",
              "     width=\"24px\">\n",
              "    <g>\n",
              "        <path d=\"M19 3H5c-1.1 0-2 .9-2 2v14c0 1.1.9 2 2 2h14c1.1 0 2-.9 2-2V5c0-1.1-.9-2-2-2zM9 17H7v-7h2v7zm4 0h-2V7h2v10zm4 0h-2v-4h2v4z\"/>\n",
              "    </g>\n",
              "</svg>\n",
              "  </button>\n",
              "\n",
              "<style>\n",
              "  .colab-df-quickchart {\n",
              "      --bg-color: #E8F0FE;\n",
              "      --fill-color: #1967D2;\n",
              "      --hover-bg-color: #E2EBFA;\n",
              "      --hover-fill-color: #174EA6;\n",
              "      --disabled-fill-color: #AAA;\n",
              "      --disabled-bg-color: #DDD;\n",
              "  }\n",
              "\n",
              "  [theme=dark] .colab-df-quickchart {\n",
              "      --bg-color: #3B4455;\n",
              "      --fill-color: #D2E3FC;\n",
              "      --hover-bg-color: #434B5C;\n",
              "      --hover-fill-color: #FFFFFF;\n",
              "      --disabled-bg-color: #3B4455;\n",
              "      --disabled-fill-color: #666;\n",
              "  }\n",
              "\n",
              "  .colab-df-quickchart {\n",
              "    background-color: var(--bg-color);\n",
              "    border: none;\n",
              "    border-radius: 50%;\n",
              "    cursor: pointer;\n",
              "    display: none;\n",
              "    fill: var(--fill-color);\n",
              "    height: 32px;\n",
              "    padding: 0;\n",
              "    width: 32px;\n",
              "  }\n",
              "\n",
              "  .colab-df-quickchart:hover {\n",
              "    background-color: var(--hover-bg-color);\n",
              "    box-shadow: 0 1px 2px rgba(60, 64, 67, 0.3), 0 1px 3px 1px rgba(60, 64, 67, 0.15);\n",
              "    fill: var(--button-hover-fill-color);\n",
              "  }\n",
              "\n",
              "  .colab-df-quickchart-complete:disabled,\n",
              "  .colab-df-quickchart-complete:disabled:hover {\n",
              "    background-color: var(--disabled-bg-color);\n",
              "    fill: var(--disabled-fill-color);\n",
              "    box-shadow: none;\n",
              "  }\n",
              "\n",
              "  .colab-df-spinner {\n",
              "    border: 2px solid var(--fill-color);\n",
              "    border-color: transparent;\n",
              "    border-bottom-color: var(--fill-color);\n",
              "    animation:\n",
              "      spin 1s steps(1) infinite;\n",
              "  }\n",
              "\n",
              "  @keyframes spin {\n",
              "    0% {\n",
              "      border-color: transparent;\n",
              "      border-bottom-color: var(--fill-color);\n",
              "      border-left-color: var(--fill-color);\n",
              "    }\n",
              "    20% {\n",
              "      border-color: transparent;\n",
              "      border-left-color: var(--fill-color);\n",
              "      border-top-color: var(--fill-color);\n",
              "    }\n",
              "    30% {\n",
              "      border-color: transparent;\n",
              "      border-left-color: var(--fill-color);\n",
              "      border-top-color: var(--fill-color);\n",
              "      border-right-color: var(--fill-color);\n",
              "    }\n",
              "    40% {\n",
              "      border-color: transparent;\n",
              "      border-right-color: var(--fill-color);\n",
              "      border-top-color: var(--fill-color);\n",
              "    }\n",
              "    60% {\n",
              "      border-color: transparent;\n",
              "      border-right-color: var(--fill-color);\n",
              "    }\n",
              "    80% {\n",
              "      border-color: transparent;\n",
              "      border-right-color: var(--fill-color);\n",
              "      border-bottom-color: var(--fill-color);\n",
              "    }\n",
              "    90% {\n",
              "      border-color: transparent;\n",
              "      border-bottom-color: var(--fill-color);\n",
              "    }\n",
              "  }\n",
              "</style>\n",
              "\n",
              "  <script>\n",
              "    async function quickchart(key) {\n",
              "      const quickchartButtonEl =\n",
              "        document.querySelector('#' + key + ' button');\n",
              "      quickchartButtonEl.disabled = true;  // To prevent multiple clicks.\n",
              "      quickchartButtonEl.classList.add('colab-df-spinner');\n",
              "      try {\n",
              "        const charts = await google.colab.kernel.invokeFunction(\n",
              "            'suggestCharts', [key], {});\n",
              "      } catch (error) {\n",
              "        console.error('Error during call to suggestCharts:', error);\n",
              "      }\n",
              "      quickchartButtonEl.classList.remove('colab-df-spinner');\n",
              "      quickchartButtonEl.classList.add('colab-df-quickchart-complete');\n",
              "    }\n",
              "    (() => {\n",
              "      let quickchartButtonEl =\n",
              "        document.querySelector('#df-138b304c-8361-4775-9df1-43b8fdb282d1 button');\n",
              "      quickchartButtonEl.style.display =\n",
              "        google.colab.kernel.accessAllowed ? 'block' : 'none';\n",
              "    })();\n",
              "  </script>\n",
              "</div>\n",
              "    </div>\n",
              "  </div>\n"
            ]
          },
          "metadata": {},
          "execution_count": 3
        }
      ]
    },
    {
      "cell_type": "markdown",
      "metadata": {
        "id": "ewJWixQohWr-"
      },
      "source": [
        "Listar o número de linhas e colunas do dataset"
      ]
    },
    {
      "cell_type": "code",
      "metadata": {
        "id": "rN-aqHZXhZ6M",
        "colab": {
          "base_uri": "https://localhost:8080/"
        },
        "outputId": "7e85637f-6101-48d6-8d16-afb35798a775"
      },
      "source": [
        "num_linhas, num_colunas = df.shape\n",
        "\n",
        "print(num_linhas, 'linhas')\n",
        "print(num_colunas, 'colunas')"
      ],
      "execution_count": 8,
      "outputs": [
        {
          "output_type": "stream",
          "name": "stdout",
          "text": [
            "58492 linhas\n",
            "14 colunas\n"
          ]
        }
      ]
    },
    {
      "cell_type": "markdown",
      "metadata": {
        "id": "UOjhf1x-hd0G"
      },
      "source": [
        "Listar o nome das colunas do dataset"
      ]
    },
    {
      "cell_type": "code",
      "metadata": {
        "id": "9KY6UYJ9hftP",
        "colab": {
          "base_uri": "https://localhost:8080/"
        },
        "outputId": "bbebb295-3b3d-48c9-c750-bf62b4f0b11c"
      },
      "source": [
        "nome_colunas = df.columns\n",
        "\n",
        "print(nome_colunas)"
      ],
      "execution_count": 13,
      "outputs": [
        {
          "output_type": "stream",
          "name": "stdout",
          "text": [
            "<bound method Index.all of Index(['MONTH', 'DAY', 'WEEKDAY', 'AIRLINE', 'ORG_AIR', 'DEST_AIR',\n",
            "       'SCHED_DEP', 'DEP_DELAY', 'AIR_TIME', 'DIST', 'SCHED_ARR', 'ARR_DELAY',\n",
            "       'DIVERTED', 'CANCELLED'],\n",
            "      dtype='object')>\n"
          ]
        }
      ]
    },
    {
      "cell_type": "markdown",
      "metadata": {
        "id": "e52-gR9vhnQ3"
      },
      "source": [
        "Executar o resumo estatístico do dataset"
      ]
    },
    {
      "cell_type": "code",
      "metadata": {
        "id": "59EoOJnrhp9E",
        "colab": {
          "base_uri": "https://localhost:8080/"
        },
        "outputId": "ef2cea2d-63f1-4e19-983b-c5c626571b0a"
      },
      "source": [
        "resumo = df.describe()\n",
        "\n",
        "print(resumo)"
      ],
      "execution_count": 14,
      "outputs": [
        {
          "output_type": "stream",
          "name": "stdout",
          "text": [
            "              MONTH           DAY       WEEKDAY     SCHED_DEP     DEP_DELAY  \\\n",
            "count  58492.000000  58492.000000  58492.000000  58492.000000  57659.000000   \n",
            "mean       6.220646     15.702096      3.926862   1387.984836     10.921192   \n",
            "std        3.358484      8.760846      1.995777    482.810792     36.146210   \n",
            "min        1.000000      1.000000      1.000000      5.000000    -24.000000   \n",
            "25%        3.000000      8.000000      2.000000   1000.000000     -4.000000   \n",
            "50%        6.000000     16.000000      4.000000   1353.000000     -1.000000   \n",
            "75%        9.000000     23.000000      6.000000   1805.000000     10.000000   \n",
            "max       12.000000     31.000000      7.000000   2359.000000   1194.000000   \n",
            "\n",
            "           AIR_TIME          DIST     SCHED_ARR     ARR_DELAY      DIVERTED  \\\n",
            "count  57474.000000  58492.000000  58492.000000  57474.000000  58492.000000   \n",
            "mean     115.928576    872.900072   1549.399832      5.812315      0.002342   \n",
            "std       71.679591    624.996805    518.599952     38.411948      0.048340   \n",
            "min        8.000000     67.000000      1.000000    -60.000000      0.000000   \n",
            "25%       61.000000    391.000000   1159.000000    -12.000000      0.000000   \n",
            "50%       97.000000    690.000000   1603.000000     -4.000000      0.000000   \n",
            "75%      152.000000   1199.000000   1959.000000      9.000000      0.000000   \n",
            "max      577.000000   4502.000000   2359.000000   1185.000000      1.000000   \n",
            "\n",
            "          CANCELLED  \n",
            "count  58492.000000  \n",
            "mean       0.015062  \n",
            "std        0.121800  \n",
            "min        0.000000  \n",
            "25%        0.000000  \n",
            "50%        0.000000  \n",
            "75%        0.000000  \n",
            "max        1.000000  \n"
          ]
        }
      ]
    },
    {
      "cell_type": "markdown",
      "metadata": {
        "id": "LqxE8Wsvh08O"
      },
      "source": [
        "Qual o maior valor, a média e a mediana da coluna **'DIST'**"
      ]
    },
    {
      "cell_type": "code",
      "metadata": {
        "id": "PuCNNPaXh5fm",
        "colab": {
          "base_uri": "https://localhost:8080/"
        },
        "outputId": "3ba43f35-a99c-4593-e01e-85434d996ee0"
      },
      "source": [
        "maior = df['DIST'].max()\n",
        "media = df['DIST'].mean()\n",
        "mediana = df['DIST'].median()\n",
        "\n",
        "print(maior)\n",
        "print(media)\n",
        "print(mediana)"
      ],
      "execution_count": 16,
      "outputs": [
        {
          "output_type": "stream",
          "name": "stdout",
          "text": [
            "4502\n",
            "872.9000718046913\n",
            "690.0\n"
          ]
        }
      ]
    },
    {
      "cell_type": "markdown",
      "metadata": {
        "id": "Eg7Xp-2IiW5_"
      },
      "source": [
        "Listar os valores únicos da coluna **'AIRLINE'**"
      ]
    },
    {
      "cell_type": "code",
      "metadata": {
        "id": "l9sufb-GiS0Z",
        "colab": {
          "base_uri": "https://localhost:8080/"
        },
        "outputId": "e0db9b02-b1fb-438f-a8fc-30111101c8b4"
      },
      "source": [
        "valores = df['AIRLINE']\n",
        "\n",
        "print(valores)"
      ],
      "execution_count": 17,
      "outputs": [
        {
          "output_type": "stream",
          "name": "stdout",
          "text": [
            "0        WN\n",
            "1        UA\n",
            "2        MQ\n",
            "3        AA\n",
            "4        WN\n",
            "         ..\n",
            "58487    AA\n",
            "58488    F9\n",
            "58489    OO\n",
            "58490    WN\n",
            "58491    OO\n",
            "Name: AIRLINE, Length: 58492, dtype: object\n"
          ]
        }
      ]
    },
    {
      "cell_type": "markdown",
      "metadata": {
        "id": "EA26owGHil5_"
      },
      "source": [
        "Listar quantos são os valores únicos da coluna **'AIRLINE'**"
      ]
    },
    {
      "cell_type": "code",
      "metadata": {
        "id": "Wh2c-MKtipeA",
        "colab": {
          "base_uri": "https://localhost:8080/"
        },
        "outputId": "550430b0-e4ef-4d87-e2ae-0b52b3b2a629"
      },
      "source": [
        "unicos = df['AIRLINE'].unique\n",
        "\n",
        "print(unicos)"
      ],
      "execution_count": 24,
      "outputs": [
        {
          "output_type": "stream",
          "name": "stdout",
          "text": [
            "<bound method Series.unique of 0        WN\n",
            "1        UA\n",
            "2        MQ\n",
            "3        AA\n",
            "4        WN\n",
            "         ..\n",
            "58487    AA\n",
            "58488    F9\n",
            "58489    OO\n",
            "58490    WN\n",
            "58491    OO\n",
            "Name: AIRLINE, Length: 58492, dtype: object>\n"
          ]
        }
      ]
    },
    {
      "cell_type": "markdown",
      "metadata": {
        "id": "1YgfbeZriy2W"
      },
      "source": [
        "Listar quantos valores existem em cada valor único da coluna **'AIRLINE'**"
      ]
    },
    {
      "cell_type": "code",
      "metadata": {
        "id": "d1gYUGnhi35R"
      },
      "source": [
        "unicos = df['AIRLINE'].value_counts().unique\n",
        "\n",
        "print(unicos)"
      ],
      "execution_count": null,
      "outputs": []
    },
    {
      "cell_type": "markdown",
      "metadata": {
        "id": "WcXW3Dcxg7nw"
      },
      "source": [
        "Verificar as informações do dataset com o método info()"
      ]
    },
    {
      "cell_type": "code",
      "metadata": {
        "id": "dFPo2yKKhBP_",
        "colab": {
          "base_uri": "https://localhost:8080/"
        },
        "outputId": "6336d3a9-0bdb-4901-d919-535f31d9a906"
      },
      "source": [
        "df.info()"
      ],
      "execution_count": 25,
      "outputs": [
        {
          "output_type": "stream",
          "name": "stdout",
          "text": [
            "<class 'pandas.core.frame.DataFrame'>\n",
            "RangeIndex: 58492 entries, 0 to 58491\n",
            "Data columns (total 14 columns):\n",
            " #   Column     Non-Null Count  Dtype  \n",
            "---  ------     --------------  -----  \n",
            " 0   MONTH      58492 non-null  int64  \n",
            " 1   DAY        58492 non-null  int64  \n",
            " 2   WEEKDAY    58492 non-null  int64  \n",
            " 3   AIRLINE    58492 non-null  object \n",
            " 4   ORG_AIR    58492 non-null  object \n",
            " 5   DEST_AIR   58492 non-null  object \n",
            " 6   SCHED_DEP  58492 non-null  int64  \n",
            " 7   DEP_DELAY  57659 non-null  float64\n",
            " 8   AIR_TIME   57474 non-null  float64\n",
            " 9   DIST       58492 non-null  int64  \n",
            " 10  SCHED_ARR  58492 non-null  int64  \n",
            " 11  ARR_DELAY  57474 non-null  float64\n",
            " 12  DIVERTED   58492 non-null  int64  \n",
            " 13  CANCELLED  58492 non-null  int64  \n",
            "dtypes: float64(3), int64(8), object(3)\n",
            "memory usage: 6.2+ MB\n"
          ]
        }
      ]
    },
    {
      "cell_type": "markdown",
      "metadata": {
        "id": "2rn1JrqAjGYX"
      },
      "source": [
        "Listar o total de valores nulos (ausentes) em cada coluna"
      ]
    },
    {
      "cell_type": "code",
      "metadata": {
        "id": "yPWjaQdBjJHz",
        "colab": {
          "base_uri": "https://localhost:8080/"
        },
        "outputId": "09697e9d-1851-445d-8d01-3299cd84646d"
      },
      "source": [
        "df.isnull().sum()"
      ],
      "execution_count": 26,
      "outputs": [
        {
          "output_type": "execute_result",
          "data": {
            "text/plain": [
              "MONTH           0\n",
              "DAY             0\n",
              "WEEKDAY         0\n",
              "AIRLINE         0\n",
              "ORG_AIR         0\n",
              "DEST_AIR        0\n",
              "SCHED_DEP       0\n",
              "DEP_DELAY     833\n",
              "AIR_TIME     1018\n",
              "DIST            0\n",
              "SCHED_ARR       0\n",
              "ARR_DELAY    1018\n",
              "DIVERTED        0\n",
              "CANCELLED       0\n",
              "dtype: int64"
            ]
          },
          "metadata": {},
          "execution_count": 26
        }
      ]
    },
    {
      "cell_type": "markdown",
      "metadata": {
        "id": "dmgeQKBljkAG"
      },
      "source": [
        "Preencher os valores nulos das colunas **'AIR_TIME'** e **'ARR_DELAY'** com a média dos valores das respectivas colunas"
      ]
    },
    {
      "cell_type": "code",
      "metadata": {
        "id": "si9pGCqcjlK4",
        "colab": {
          "base_uri": "https://localhost:8080/",
          "height": 424
        },
        "outputId": "c59e76e7-6b31-4142-dccd-35127904cc20"
      },
      "source": [
        "df[\"AIR_TIME\"].fillna(df['AIR_TIME'].mean(), inplace=True)\n",
        "df[\"ARR_DELAY\"].fillna(df['ARR_DELAY'].mean(), inplace=True)\n",
        "df"
      ],
      "execution_count": 28,
      "outputs": [
        {
          "output_type": "execute_result",
          "data": {
            "text/plain": [
              "       MONTH  DAY  WEEKDAY AIRLINE ORG_AIR DEST_AIR  SCHED_DEP  DEP_DELAY  \\\n",
              "0          1    1        4      WN     LAX      SLC       1625       58.0   \n",
              "1          1    1        4      UA     DEN      IAD        823        7.0   \n",
              "2          1    1        4      MQ     DFW      VPS       1305       36.0   \n",
              "3          1    1        4      AA     DFW      DCA       1555        7.0   \n",
              "4          1    1        4      WN     LAX      MCI       1720       48.0   \n",
              "...      ...  ...      ...     ...     ...      ...        ...        ...   \n",
              "58487     12   31        4      AA     SFO      DFW        515        5.0   \n",
              "58488     12   31        4      F9     LAS      SFO       1910       13.0   \n",
              "58489     12   31        4      OO     SFO      SBA       1846       -6.0   \n",
              "58490     12   31        4      WN     MSP      ATL        525       39.0   \n",
              "58491     12   31        4      OO     SFO      BOI        859        5.0   \n",
              "\n",
              "       AIR_TIME  DIST  SCHED_ARR  ARR_DELAY  DIVERTED  CANCELLED  \n",
              "0          94.0   590       1905       65.0         0          0  \n",
              "1         154.0  1452       1333      -13.0         0          0  \n",
              "2          85.0   641       1453       35.0         0          0  \n",
              "3         126.0  1192       1935       -7.0         0          0  \n",
              "4         166.0  1363       2225       39.0         0          0  \n",
              "...         ...   ...        ...        ...       ...        ...  \n",
              "58487     166.0  1464       1045      -19.0         0          0  \n",
              "58488      71.0   414       2050        4.0         0          0  \n",
              "58489      46.0   262       1956       -5.0         0          0  \n",
              "58490     124.0   907        855       34.0         0          0  \n",
              "58491      73.0   522       1146       -1.0         0          0  \n",
              "\n",
              "[58492 rows x 14 columns]"
            ],
            "text/html": [
              "\n",
              "  <div id=\"df-83335831-c28c-4626-99b1-3b28558cbbfe\" class=\"colab-df-container\">\n",
              "    <div>\n",
              "<style scoped>\n",
              "    .dataframe tbody tr th:only-of-type {\n",
              "        vertical-align: middle;\n",
              "    }\n",
              "\n",
              "    .dataframe tbody tr th {\n",
              "        vertical-align: top;\n",
              "    }\n",
              "\n",
              "    .dataframe thead th {\n",
              "        text-align: right;\n",
              "    }\n",
              "</style>\n",
              "<table border=\"1\" class=\"dataframe\">\n",
              "  <thead>\n",
              "    <tr style=\"text-align: right;\">\n",
              "      <th></th>\n",
              "      <th>MONTH</th>\n",
              "      <th>DAY</th>\n",
              "      <th>WEEKDAY</th>\n",
              "      <th>AIRLINE</th>\n",
              "      <th>ORG_AIR</th>\n",
              "      <th>DEST_AIR</th>\n",
              "      <th>SCHED_DEP</th>\n",
              "      <th>DEP_DELAY</th>\n",
              "      <th>AIR_TIME</th>\n",
              "      <th>DIST</th>\n",
              "      <th>SCHED_ARR</th>\n",
              "      <th>ARR_DELAY</th>\n",
              "      <th>DIVERTED</th>\n",
              "      <th>CANCELLED</th>\n",
              "    </tr>\n",
              "  </thead>\n",
              "  <tbody>\n",
              "    <tr>\n",
              "      <th>0</th>\n",
              "      <td>1</td>\n",
              "      <td>1</td>\n",
              "      <td>4</td>\n",
              "      <td>WN</td>\n",
              "      <td>LAX</td>\n",
              "      <td>SLC</td>\n",
              "      <td>1625</td>\n",
              "      <td>58.0</td>\n",
              "      <td>94.0</td>\n",
              "      <td>590</td>\n",
              "      <td>1905</td>\n",
              "      <td>65.0</td>\n",
              "      <td>0</td>\n",
              "      <td>0</td>\n",
              "    </tr>\n",
              "    <tr>\n",
              "      <th>1</th>\n",
              "      <td>1</td>\n",
              "      <td>1</td>\n",
              "      <td>4</td>\n",
              "      <td>UA</td>\n",
              "      <td>DEN</td>\n",
              "      <td>IAD</td>\n",
              "      <td>823</td>\n",
              "      <td>7.0</td>\n",
              "      <td>154.0</td>\n",
              "      <td>1452</td>\n",
              "      <td>1333</td>\n",
              "      <td>-13.0</td>\n",
              "      <td>0</td>\n",
              "      <td>0</td>\n",
              "    </tr>\n",
              "    <tr>\n",
              "      <th>2</th>\n",
              "      <td>1</td>\n",
              "      <td>1</td>\n",
              "      <td>4</td>\n",
              "      <td>MQ</td>\n",
              "      <td>DFW</td>\n",
              "      <td>VPS</td>\n",
              "      <td>1305</td>\n",
              "      <td>36.0</td>\n",
              "      <td>85.0</td>\n",
              "      <td>641</td>\n",
              "      <td>1453</td>\n",
              "      <td>35.0</td>\n",
              "      <td>0</td>\n",
              "      <td>0</td>\n",
              "    </tr>\n",
              "    <tr>\n",
              "      <th>3</th>\n",
              "      <td>1</td>\n",
              "      <td>1</td>\n",
              "      <td>4</td>\n",
              "      <td>AA</td>\n",
              "      <td>DFW</td>\n",
              "      <td>DCA</td>\n",
              "      <td>1555</td>\n",
              "      <td>7.0</td>\n",
              "      <td>126.0</td>\n",
              "      <td>1192</td>\n",
              "      <td>1935</td>\n",
              "      <td>-7.0</td>\n",
              "      <td>0</td>\n",
              "      <td>0</td>\n",
              "    </tr>\n",
              "    <tr>\n",
              "      <th>4</th>\n",
              "      <td>1</td>\n",
              "      <td>1</td>\n",
              "      <td>4</td>\n",
              "      <td>WN</td>\n",
              "      <td>LAX</td>\n",
              "      <td>MCI</td>\n",
              "      <td>1720</td>\n",
              "      <td>48.0</td>\n",
              "      <td>166.0</td>\n",
              "      <td>1363</td>\n",
              "      <td>2225</td>\n",
              "      <td>39.0</td>\n",
              "      <td>0</td>\n",
              "      <td>0</td>\n",
              "    </tr>\n",
              "    <tr>\n",
              "      <th>...</th>\n",
              "      <td>...</td>\n",
              "      <td>...</td>\n",
              "      <td>...</td>\n",
              "      <td>...</td>\n",
              "      <td>...</td>\n",
              "      <td>...</td>\n",
              "      <td>...</td>\n",
              "      <td>...</td>\n",
              "      <td>...</td>\n",
              "      <td>...</td>\n",
              "      <td>...</td>\n",
              "      <td>...</td>\n",
              "      <td>...</td>\n",
              "      <td>...</td>\n",
              "    </tr>\n",
              "    <tr>\n",
              "      <th>58487</th>\n",
              "      <td>12</td>\n",
              "      <td>31</td>\n",
              "      <td>4</td>\n",
              "      <td>AA</td>\n",
              "      <td>SFO</td>\n",
              "      <td>DFW</td>\n",
              "      <td>515</td>\n",
              "      <td>5.0</td>\n",
              "      <td>166.0</td>\n",
              "      <td>1464</td>\n",
              "      <td>1045</td>\n",
              "      <td>-19.0</td>\n",
              "      <td>0</td>\n",
              "      <td>0</td>\n",
              "    </tr>\n",
              "    <tr>\n",
              "      <th>58488</th>\n",
              "      <td>12</td>\n",
              "      <td>31</td>\n",
              "      <td>4</td>\n",
              "      <td>F9</td>\n",
              "      <td>LAS</td>\n",
              "      <td>SFO</td>\n",
              "      <td>1910</td>\n",
              "      <td>13.0</td>\n",
              "      <td>71.0</td>\n",
              "      <td>414</td>\n",
              "      <td>2050</td>\n",
              "      <td>4.0</td>\n",
              "      <td>0</td>\n",
              "      <td>0</td>\n",
              "    </tr>\n",
              "    <tr>\n",
              "      <th>58489</th>\n",
              "      <td>12</td>\n",
              "      <td>31</td>\n",
              "      <td>4</td>\n",
              "      <td>OO</td>\n",
              "      <td>SFO</td>\n",
              "      <td>SBA</td>\n",
              "      <td>1846</td>\n",
              "      <td>-6.0</td>\n",
              "      <td>46.0</td>\n",
              "      <td>262</td>\n",
              "      <td>1956</td>\n",
              "      <td>-5.0</td>\n",
              "      <td>0</td>\n",
              "      <td>0</td>\n",
              "    </tr>\n",
              "    <tr>\n",
              "      <th>58490</th>\n",
              "      <td>12</td>\n",
              "      <td>31</td>\n",
              "      <td>4</td>\n",
              "      <td>WN</td>\n",
              "      <td>MSP</td>\n",
              "      <td>ATL</td>\n",
              "      <td>525</td>\n",
              "      <td>39.0</td>\n",
              "      <td>124.0</td>\n",
              "      <td>907</td>\n",
              "      <td>855</td>\n",
              "      <td>34.0</td>\n",
              "      <td>0</td>\n",
              "      <td>0</td>\n",
              "    </tr>\n",
              "    <tr>\n",
              "      <th>58491</th>\n",
              "      <td>12</td>\n",
              "      <td>31</td>\n",
              "      <td>4</td>\n",
              "      <td>OO</td>\n",
              "      <td>SFO</td>\n",
              "      <td>BOI</td>\n",
              "      <td>859</td>\n",
              "      <td>5.0</td>\n",
              "      <td>73.0</td>\n",
              "      <td>522</td>\n",
              "      <td>1146</td>\n",
              "      <td>-1.0</td>\n",
              "      <td>0</td>\n",
              "      <td>0</td>\n",
              "    </tr>\n",
              "  </tbody>\n",
              "</table>\n",
              "<p>58492 rows × 14 columns</p>\n",
              "</div>\n",
              "    <div class=\"colab-df-buttons\">\n",
              "\n",
              "  <div class=\"colab-df-container\">\n",
              "    <button class=\"colab-df-convert\" onclick=\"convertToInteractive('df-83335831-c28c-4626-99b1-3b28558cbbfe')\"\n",
              "            title=\"Convert this dataframe to an interactive table.\"\n",
              "            style=\"display:none;\">\n",
              "\n",
              "  <svg xmlns=\"http://www.w3.org/2000/svg\" height=\"24px\" viewBox=\"0 -960 960 960\">\n",
              "    <path d=\"M120-120v-720h720v720H120Zm60-500h600v-160H180v160Zm220 220h160v-160H400v160Zm0 220h160v-160H400v160ZM180-400h160v-160H180v160Zm440 0h160v-160H620v160ZM180-180h160v-160H180v160Zm440 0h160v-160H620v160Z\"/>\n",
              "  </svg>\n",
              "    </button>\n",
              "\n",
              "  <style>\n",
              "    .colab-df-container {\n",
              "      display:flex;\n",
              "      gap: 12px;\n",
              "    }\n",
              "\n",
              "    .colab-df-convert {\n",
              "      background-color: #E8F0FE;\n",
              "      border: none;\n",
              "      border-radius: 50%;\n",
              "      cursor: pointer;\n",
              "      display: none;\n",
              "      fill: #1967D2;\n",
              "      height: 32px;\n",
              "      padding: 0 0 0 0;\n",
              "      width: 32px;\n",
              "    }\n",
              "\n",
              "    .colab-df-convert:hover {\n",
              "      background-color: #E2EBFA;\n",
              "      box-shadow: 0px 1px 2px rgba(60, 64, 67, 0.3), 0px 1px 3px 1px rgba(60, 64, 67, 0.15);\n",
              "      fill: #174EA6;\n",
              "    }\n",
              "\n",
              "    .colab-df-buttons div {\n",
              "      margin-bottom: 4px;\n",
              "    }\n",
              "\n",
              "    [theme=dark] .colab-df-convert {\n",
              "      background-color: #3B4455;\n",
              "      fill: #D2E3FC;\n",
              "    }\n",
              "\n",
              "    [theme=dark] .colab-df-convert:hover {\n",
              "      background-color: #434B5C;\n",
              "      box-shadow: 0px 1px 3px 1px rgba(0, 0, 0, 0.15);\n",
              "      filter: drop-shadow(0px 1px 2px rgba(0, 0, 0, 0.3));\n",
              "      fill: #FFFFFF;\n",
              "    }\n",
              "  </style>\n",
              "\n",
              "    <script>\n",
              "      const buttonEl =\n",
              "        document.querySelector('#df-83335831-c28c-4626-99b1-3b28558cbbfe button.colab-df-convert');\n",
              "      buttonEl.style.display =\n",
              "        google.colab.kernel.accessAllowed ? 'block' : 'none';\n",
              "\n",
              "      async function convertToInteractive(key) {\n",
              "        const element = document.querySelector('#df-83335831-c28c-4626-99b1-3b28558cbbfe');\n",
              "        const dataTable =\n",
              "          await google.colab.kernel.invokeFunction('convertToInteractive',\n",
              "                                                    [key], {});\n",
              "        if (!dataTable) return;\n",
              "\n",
              "        const docLinkHtml = 'Like what you see? Visit the ' +\n",
              "          '<a target=\"_blank\" href=https://colab.research.google.com/notebooks/data_table.ipynb>data table notebook</a>'\n",
              "          + ' to learn more about interactive tables.';\n",
              "        element.innerHTML = '';\n",
              "        dataTable['output_type'] = 'display_data';\n",
              "        await google.colab.output.renderOutput(dataTable, element);\n",
              "        const docLink = document.createElement('div');\n",
              "        docLink.innerHTML = docLinkHtml;\n",
              "        element.appendChild(docLink);\n",
              "      }\n",
              "    </script>\n",
              "  </div>\n",
              "\n",
              "\n",
              "<div id=\"df-45d9de9a-0aa8-4250-bfaa-e84e12cb5aea\">\n",
              "  <button class=\"colab-df-quickchart\" onclick=\"quickchart('df-45d9de9a-0aa8-4250-bfaa-e84e12cb5aea')\"\n",
              "            title=\"Suggest charts.\"\n",
              "            style=\"display:none;\">\n",
              "\n",
              "<svg xmlns=\"http://www.w3.org/2000/svg\" height=\"24px\"viewBox=\"0 0 24 24\"\n",
              "     width=\"24px\">\n",
              "    <g>\n",
              "        <path d=\"M19 3H5c-1.1 0-2 .9-2 2v14c0 1.1.9 2 2 2h14c1.1 0 2-.9 2-2V5c0-1.1-.9-2-2-2zM9 17H7v-7h2v7zm4 0h-2V7h2v10zm4 0h-2v-4h2v4z\"/>\n",
              "    </g>\n",
              "</svg>\n",
              "  </button>\n",
              "\n",
              "<style>\n",
              "  .colab-df-quickchart {\n",
              "      --bg-color: #E8F0FE;\n",
              "      --fill-color: #1967D2;\n",
              "      --hover-bg-color: #E2EBFA;\n",
              "      --hover-fill-color: #174EA6;\n",
              "      --disabled-fill-color: #AAA;\n",
              "      --disabled-bg-color: #DDD;\n",
              "  }\n",
              "\n",
              "  [theme=dark] .colab-df-quickchart {\n",
              "      --bg-color: #3B4455;\n",
              "      --fill-color: #D2E3FC;\n",
              "      --hover-bg-color: #434B5C;\n",
              "      --hover-fill-color: #FFFFFF;\n",
              "      --disabled-bg-color: #3B4455;\n",
              "      --disabled-fill-color: #666;\n",
              "  }\n",
              "\n",
              "  .colab-df-quickchart {\n",
              "    background-color: var(--bg-color);\n",
              "    border: none;\n",
              "    border-radius: 50%;\n",
              "    cursor: pointer;\n",
              "    display: none;\n",
              "    fill: var(--fill-color);\n",
              "    height: 32px;\n",
              "    padding: 0;\n",
              "    width: 32px;\n",
              "  }\n",
              "\n",
              "  .colab-df-quickchart:hover {\n",
              "    background-color: var(--hover-bg-color);\n",
              "    box-shadow: 0 1px 2px rgba(60, 64, 67, 0.3), 0 1px 3px 1px rgba(60, 64, 67, 0.15);\n",
              "    fill: var(--button-hover-fill-color);\n",
              "  }\n",
              "\n",
              "  .colab-df-quickchart-complete:disabled,\n",
              "  .colab-df-quickchart-complete:disabled:hover {\n",
              "    background-color: var(--disabled-bg-color);\n",
              "    fill: var(--disabled-fill-color);\n",
              "    box-shadow: none;\n",
              "  }\n",
              "\n",
              "  .colab-df-spinner {\n",
              "    border: 2px solid var(--fill-color);\n",
              "    border-color: transparent;\n",
              "    border-bottom-color: var(--fill-color);\n",
              "    animation:\n",
              "      spin 1s steps(1) infinite;\n",
              "  }\n",
              "\n",
              "  @keyframes spin {\n",
              "    0% {\n",
              "      border-color: transparent;\n",
              "      border-bottom-color: var(--fill-color);\n",
              "      border-left-color: var(--fill-color);\n",
              "    }\n",
              "    20% {\n",
              "      border-color: transparent;\n",
              "      border-left-color: var(--fill-color);\n",
              "      border-top-color: var(--fill-color);\n",
              "    }\n",
              "    30% {\n",
              "      border-color: transparent;\n",
              "      border-left-color: var(--fill-color);\n",
              "      border-top-color: var(--fill-color);\n",
              "      border-right-color: var(--fill-color);\n",
              "    }\n",
              "    40% {\n",
              "      border-color: transparent;\n",
              "      border-right-color: var(--fill-color);\n",
              "      border-top-color: var(--fill-color);\n",
              "    }\n",
              "    60% {\n",
              "      border-color: transparent;\n",
              "      border-right-color: var(--fill-color);\n",
              "    }\n",
              "    80% {\n",
              "      border-color: transparent;\n",
              "      border-right-color: var(--fill-color);\n",
              "      border-bottom-color: var(--fill-color);\n",
              "    }\n",
              "    90% {\n",
              "      border-color: transparent;\n",
              "      border-bottom-color: var(--fill-color);\n",
              "    }\n",
              "  }\n",
              "</style>\n",
              "\n",
              "  <script>\n",
              "    async function quickchart(key) {\n",
              "      const quickchartButtonEl =\n",
              "        document.querySelector('#' + key + ' button');\n",
              "      quickchartButtonEl.disabled = true;  // To prevent multiple clicks.\n",
              "      quickchartButtonEl.classList.add('colab-df-spinner');\n",
              "      try {\n",
              "        const charts = await google.colab.kernel.invokeFunction(\n",
              "            'suggestCharts', [key], {});\n",
              "      } catch (error) {\n",
              "        console.error('Error during call to suggestCharts:', error);\n",
              "      }\n",
              "      quickchartButtonEl.classList.remove('colab-df-spinner');\n",
              "      quickchartButtonEl.classList.add('colab-df-quickchart-complete');\n",
              "    }\n",
              "    (() => {\n",
              "      let quickchartButtonEl =\n",
              "        document.querySelector('#df-45d9de9a-0aa8-4250-bfaa-e84e12cb5aea button');\n",
              "      quickchartButtonEl.style.display =\n",
              "        google.colab.kernel.accessAllowed ? 'block' : 'none';\n",
              "    })();\n",
              "  </script>\n",
              "</div>\n",
              "    </div>\n",
              "  </div>\n"
            ]
          },
          "metadata": {},
          "execution_count": 28
        }
      ]
    },
    {
      "cell_type": "markdown",
      "metadata": {
        "id": "36JqSzwUj40F"
      },
      "source": [
        "Listar novamente o total de valores nulos de cada coluna"
      ]
    },
    {
      "cell_type": "code",
      "metadata": {
        "id": "KWbquwiOjVVo",
        "colab": {
          "base_uri": "https://localhost:8080/"
        },
        "outputId": "e7fd4e57-5ce2-41b1-fae7-ffcd324c8466"
      },
      "source": [
        "df.isnull().sum()"
      ],
      "execution_count": 29,
      "outputs": [
        {
          "output_type": "execute_result",
          "data": {
            "text/plain": [
              "MONTH          0\n",
              "DAY            0\n",
              "WEEKDAY        0\n",
              "AIRLINE        0\n",
              "ORG_AIR        0\n",
              "DEST_AIR       0\n",
              "SCHED_DEP      0\n",
              "DEP_DELAY    833\n",
              "AIR_TIME       0\n",
              "DIST           0\n",
              "SCHED_ARR      0\n",
              "ARR_DELAY      0\n",
              "DIVERTED       0\n",
              "CANCELLED      0\n",
              "dtype: int64"
            ]
          },
          "metadata": {},
          "execution_count": 29
        }
      ]
    },
    {
      "cell_type": "markdown",
      "metadata": {
        "id": "qHC7NFXxkAnq"
      },
      "source": [
        "Excluir as linhas do dataset onde ainda existem valores nulos\n"
      ]
    },
    {
      "cell_type": "code",
      "metadata": {
        "id": "8Q9dWhBgkE_9"
      },
      "source": [
        "df.dropna(inplace=True)"
      ],
      "execution_count": 30,
      "outputs": []
    },
    {
      "cell_type": "markdown",
      "metadata": {
        "id": "jKwrxhpWkNwD"
      },
      "source": [
        "Listar novamente o total de valores nulos de cada coluna"
      ]
    },
    {
      "cell_type": "code",
      "metadata": {
        "id": "rULb-mQVkNwG",
        "colab": {
          "base_uri": "https://localhost:8080/"
        },
        "outputId": "fdd90c4c-58c4-407c-dd13-5d6d5501bf1f"
      },
      "source": [
        "df.isnull().sum()"
      ],
      "execution_count": 31,
      "outputs": [
        {
          "output_type": "execute_result",
          "data": {
            "text/plain": [
              "MONTH        0\n",
              "DAY          0\n",
              "WEEKDAY      0\n",
              "AIRLINE      0\n",
              "ORG_AIR      0\n",
              "DEST_AIR     0\n",
              "SCHED_DEP    0\n",
              "DEP_DELAY    0\n",
              "AIR_TIME     0\n",
              "DIST         0\n",
              "SCHED_ARR    0\n",
              "ARR_DELAY    0\n",
              "DIVERTED     0\n",
              "CANCELLED    0\n",
              "dtype: int64"
            ]
          },
          "metadata": {},
          "execution_count": 31
        }
      ]
    },
    {
      "cell_type": "markdown",
      "metadata": {
        "id": "M6HVlG34kRPb"
      },
      "source": [
        "Listar novamente o número de linhas e colunas do dataset"
      ]
    },
    {
      "cell_type": "code",
      "metadata": {
        "id": "S4EaBOEakT7E",
        "colab": {
          "base_uri": "https://localhost:8080/"
        },
        "outputId": "2b10fb3d-db7e-48ef-c252-819fe567da81"
      },
      "source": [
        "num_linhas, num_colunas = df.shape\n",
        "\n",
        "print(num_linhas, 'linhas')\n",
        "print(num_colunas, 'colunas')"
      ],
      "execution_count": 32,
      "outputs": [
        {
          "output_type": "stream",
          "name": "stdout",
          "text": [
            "57659 linhas\n",
            "14 colunas\n"
          ]
        }
      ]
    },
    {
      "cell_type": "markdown",
      "metadata": {
        "id": "arb3VQuOkwHb"
      },
      "source": [
        "Listar as linhas do dataset cujo valor da coluna **'AIRLINE'** é igual a **'HA'**"
      ]
    },
    {
      "cell_type": "code",
      "metadata": {
        "id": "plpRs98ykfkz",
        "colab": {
          "base_uri": "https://localhost:8080/"
        },
        "outputId": "057deb6f-7077-4f24-ef27-4a118047d7ab"
      },
      "source": [
        "lista = df['AIRLINE'].loc[df['AIRLINE'] == 'HA']\n",
        "\n",
        "print(lista)"
      ],
      "execution_count": 38,
      "outputs": [
        {
          "output_type": "stream",
          "name": "stdout",
          "text": [
            "582      HA\n",
            "712      HA\n",
            "878      HA\n",
            "1053     HA\n",
            "1269     HA\n",
            "         ..\n",
            "55883    HA\n",
            "56174    HA\n",
            "56350    HA\n",
            "56816    HA\n",
            "58391    HA\n",
            "Name: AIRLINE, Length: 112, dtype: object\n"
          ]
        }
      ]
    },
    {
      "cell_type": "markdown",
      "metadata": {
        "id": "9Jt25v1nk9KL"
      },
      "source": [
        "Listar as linhas do dataset cujo valor da coluna **'AIRLINE'** é igual a **'HA'** e o valor da coluna **'DEP_DELAY'** é maior do que **20.0**"
      ]
    },
    {
      "cell_type": "code",
      "metadata": {
        "id": "8bqv5pAxk9KN",
        "colab": {
          "base_uri": "https://localhost:8080/"
        },
        "outputId": "faf064da-1c3d-4cd5-8f12-7504fa41c38e"
      },
      "source": [
        "lista = df['AIRLINE'].loc[(df['AIRLINE'] == 'HA') & (df['DEP_DELAY'] > 20)]\n",
        "\n",
        "print(lista)"
      ],
      "execution_count": 42,
      "outputs": [
        {
          "output_type": "stream",
          "name": "stdout",
          "text": [
            "1345     HA\n",
            "2316     HA\n",
            "22584    HA\n",
            "26127    HA\n",
            "31675    HA\n",
            "37664    HA\n",
            "42165    HA\n",
            "49971    HA\n",
            "Name: AIRLINE, dtype: object\n"
          ]
        }
      ]
    }
  ]
}